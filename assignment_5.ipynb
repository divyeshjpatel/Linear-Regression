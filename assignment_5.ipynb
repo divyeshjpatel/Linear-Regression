{
 "cells": [
  {
   "cell_type": "markdown",
   "id": "227def16",
   "metadata": {},
   "source": [
    "# MultiLinear Regression"
   ]
  },
  {
   "cell_type": "markdown",
   "id": "e5c5a051",
   "metadata": {},
   "source": [
    "# Startups problem"
   ]
  },
  {
   "cell_type": "code",
   "execution_count": 1,
   "id": "bda1a64f",
   "metadata": {},
   "outputs": [],
   "source": [
    "import pandas as pd\n",
    "import statsmodels.formula.api as smf\n",
    "import seaborn as sns"
   ]
  },
  {
   "cell_type": "code",
   "execution_count": 5,
   "id": "85ad0c2e",
   "metadata": {},
   "outputs": [],
   "source": [
    "df = pd.read_csv(\"D:/ExcelR/A5 multi linear regression/50_Startups.csv\")"
   ]
  },
  {
   "cell_type": "code",
   "execution_count": 3,
   "id": "7574478b",
   "metadata": {},
   "outputs": [
    {
     "data": {
      "text/html": [
       "<div>\n",
       "<style scoped>\n",
       "    .dataframe tbody tr th:only-of-type {\n",
       "        vertical-align: middle;\n",
       "    }\n",
       "\n",
       "    .dataframe tbody tr th {\n",
       "        vertical-align: top;\n",
       "    }\n",
       "\n",
       "    .dataframe thead th {\n",
       "        text-align: right;\n",
       "    }\n",
       "</style>\n",
       "<table border=\"1\" class=\"dataframe\">\n",
       "  <thead>\n",
       "    <tr style=\"text-align: right;\">\n",
       "      <th></th>\n",
       "      <th>R&amp;D Spend</th>\n",
       "      <th>Administration</th>\n",
       "      <th>Marketing Spend</th>\n",
       "      <th>State</th>\n",
       "      <th>Profit</th>\n",
       "    </tr>\n",
       "  </thead>\n",
       "  <tbody>\n",
       "    <tr>\n",
       "      <th>0</th>\n",
       "      <td>165349.20</td>\n",
       "      <td>136897.80</td>\n",
       "      <td>471784.10</td>\n",
       "      <td>New York</td>\n",
       "      <td>192261.83</td>\n",
       "    </tr>\n",
       "    <tr>\n",
       "      <th>1</th>\n",
       "      <td>162597.70</td>\n",
       "      <td>151377.59</td>\n",
       "      <td>443898.53</td>\n",
       "      <td>California</td>\n",
       "      <td>191792.06</td>\n",
       "    </tr>\n",
       "    <tr>\n",
       "      <th>2</th>\n",
       "      <td>153441.51</td>\n",
       "      <td>101145.55</td>\n",
       "      <td>407934.54</td>\n",
       "      <td>Florida</td>\n",
       "      <td>191050.39</td>\n",
       "    </tr>\n",
       "    <tr>\n",
       "      <th>3</th>\n",
       "      <td>144372.41</td>\n",
       "      <td>118671.85</td>\n",
       "      <td>383199.62</td>\n",
       "      <td>New York</td>\n",
       "      <td>182901.99</td>\n",
       "    </tr>\n",
       "    <tr>\n",
       "      <th>4</th>\n",
       "      <td>142107.34</td>\n",
       "      <td>91391.77</td>\n",
       "      <td>366168.42</td>\n",
       "      <td>Florida</td>\n",
       "      <td>166187.94</td>\n",
       "    </tr>\n",
       "  </tbody>\n",
       "</table>\n",
       "</div>"
      ],
      "text/plain": [
       "   R&D Spend  Administration  Marketing Spend       State     Profit\n",
       "0  165349.20       136897.80        471784.10    New York  192261.83\n",
       "1  162597.70       151377.59        443898.53  California  191792.06\n",
       "2  153441.51       101145.55        407934.54     Florida  191050.39\n",
       "3  144372.41       118671.85        383199.62    New York  182901.99\n",
       "4  142107.34        91391.77        366168.42     Florida  166187.94"
      ]
     },
     "execution_count": 3,
     "metadata": {},
     "output_type": "execute_result"
    }
   ],
   "source": [
    "df.head()"
   ]
  },
  {
   "cell_type": "code",
   "execution_count": 4,
   "id": "eb6ed90f",
   "metadata": {},
   "outputs": [
    {
     "name": "stdout",
     "output_type": "stream",
     "text": [
      "<class 'pandas.core.frame.DataFrame'>\n",
      "RangeIndex: 50 entries, 0 to 49\n",
      "Data columns (total 5 columns):\n",
      " #   Column           Non-Null Count  Dtype  \n",
      "---  ------           --------------  -----  \n",
      " 0   R&D Spend        50 non-null     float64\n",
      " 1   Administration   50 non-null     float64\n",
      " 2   Marketing Spend  50 non-null     float64\n",
      " 3   State            50 non-null     object \n",
      " 4   Profit           50 non-null     float64\n",
      "dtypes: float64(4), object(1)\n",
      "memory usage: 2.1+ KB\n"
     ]
    }
   ],
   "source": [
    "df.info()"
   ]
  },
  {
   "cell_type": "code",
   "execution_count": 5,
   "id": "f1d59940",
   "metadata": {},
   "outputs": [],
   "source": [
    "dfcopy = df.rename(columns={'R&D Spend':'RandD','Marketing Spend':'Marketing'})"
   ]
  },
  {
   "cell_type": "code",
   "execution_count": 6,
   "id": "43ca7ffd",
   "metadata": {},
   "outputs": [
    {
     "name": "stdout",
     "output_type": "stream",
     "text": [
      "<class 'pandas.core.frame.DataFrame'>\n",
      "RangeIndex: 50 entries, 0 to 49\n",
      "Data columns (total 5 columns):\n",
      " #   Column          Non-Null Count  Dtype  \n",
      "---  ------          --------------  -----  \n",
      " 0   RandD           50 non-null     float64\n",
      " 1   Administration  50 non-null     float64\n",
      " 2   Marketing       50 non-null     float64\n",
      " 3   State           50 non-null     object \n",
      " 4   Profit          50 non-null     float64\n",
      "dtypes: float64(4), object(1)\n",
      "memory usage: 2.1+ KB\n"
     ]
    }
   ],
   "source": [
    "dfcopy.info()"
   ]
  },
  {
   "cell_type": "code",
   "execution_count": 7,
   "id": "1609d0da",
   "metadata": {},
   "outputs": [
    {
     "data": {
      "text/plain": [
       "array(['New York', 'California', 'Florida'], dtype=object)"
      ]
     },
     "execution_count": 7,
     "metadata": {},
     "output_type": "execute_result"
    }
   ],
   "source": [
    "pd.unique(dfcopy['State'])"
   ]
  },
  {
   "cell_type": "code",
   "execution_count": 8,
   "id": "0bb83457",
   "metadata": {},
   "outputs": [],
   "source": [
    "dfcopy['California'] = (dfcopy['State']=='California').astype(float)"
   ]
  },
  {
   "cell_type": "code",
   "execution_count": 9,
   "id": "170dd389",
   "metadata": {},
   "outputs": [
    {
     "data": {
      "text/html": [
       "<div>\n",
       "<style scoped>\n",
       "    .dataframe tbody tr th:only-of-type {\n",
       "        vertical-align: middle;\n",
       "    }\n",
       "\n",
       "    .dataframe tbody tr th {\n",
       "        vertical-align: top;\n",
       "    }\n",
       "\n",
       "    .dataframe thead th {\n",
       "        text-align: right;\n",
       "    }\n",
       "</style>\n",
       "<table border=\"1\" class=\"dataframe\">\n",
       "  <thead>\n",
       "    <tr style=\"text-align: right;\">\n",
       "      <th></th>\n",
       "      <th>RandD</th>\n",
       "      <th>Administration</th>\n",
       "      <th>Marketing</th>\n",
       "      <th>State</th>\n",
       "      <th>Profit</th>\n",
       "      <th>California</th>\n",
       "    </tr>\n",
       "  </thead>\n",
       "  <tbody>\n",
       "    <tr>\n",
       "      <th>0</th>\n",
       "      <td>165349.20</td>\n",
       "      <td>136897.80</td>\n",
       "      <td>471784.10</td>\n",
       "      <td>New York</td>\n",
       "      <td>192261.83</td>\n",
       "      <td>0.0</td>\n",
       "    </tr>\n",
       "    <tr>\n",
       "      <th>1</th>\n",
       "      <td>162597.70</td>\n",
       "      <td>151377.59</td>\n",
       "      <td>443898.53</td>\n",
       "      <td>California</td>\n",
       "      <td>191792.06</td>\n",
       "      <td>1.0</td>\n",
       "    </tr>\n",
       "    <tr>\n",
       "      <th>2</th>\n",
       "      <td>153441.51</td>\n",
       "      <td>101145.55</td>\n",
       "      <td>407934.54</td>\n",
       "      <td>Florida</td>\n",
       "      <td>191050.39</td>\n",
       "      <td>0.0</td>\n",
       "    </tr>\n",
       "    <tr>\n",
       "      <th>3</th>\n",
       "      <td>144372.41</td>\n",
       "      <td>118671.85</td>\n",
       "      <td>383199.62</td>\n",
       "      <td>New York</td>\n",
       "      <td>182901.99</td>\n",
       "      <td>0.0</td>\n",
       "    </tr>\n",
       "    <tr>\n",
       "      <th>4</th>\n",
       "      <td>142107.34</td>\n",
       "      <td>91391.77</td>\n",
       "      <td>366168.42</td>\n",
       "      <td>Florida</td>\n",
       "      <td>166187.94</td>\n",
       "      <td>0.0</td>\n",
       "    </tr>\n",
       "  </tbody>\n",
       "</table>\n",
       "</div>"
      ],
      "text/plain": [
       "       RandD  Administration  Marketing       State     Profit  California\n",
       "0  165349.20       136897.80  471784.10    New York  192261.83         0.0\n",
       "1  162597.70       151377.59  443898.53  California  191792.06         1.0\n",
       "2  153441.51       101145.55  407934.54     Florida  191050.39         0.0\n",
       "3  144372.41       118671.85  383199.62    New York  182901.99         0.0\n",
       "4  142107.34        91391.77  366168.42     Florida  166187.94         0.0"
      ]
     },
     "execution_count": 9,
     "metadata": {},
     "output_type": "execute_result"
    }
   ],
   "source": [
    "dfcopy.head()"
   ]
  },
  {
   "cell_type": "code",
   "execution_count": 10,
   "id": "3fc46a3f",
   "metadata": {},
   "outputs": [],
   "source": [
    "dfcopy['Florida'] = (dfcopy['State']=='Florida').astype(float)"
   ]
  },
  {
   "cell_type": "code",
   "execution_count": 11,
   "id": "b10723cc",
   "metadata": {},
   "outputs": [
    {
     "data": {
      "text/html": [
       "<div>\n",
       "<style scoped>\n",
       "    .dataframe tbody tr th:only-of-type {\n",
       "        vertical-align: middle;\n",
       "    }\n",
       "\n",
       "    .dataframe tbody tr th {\n",
       "        vertical-align: top;\n",
       "    }\n",
       "\n",
       "    .dataframe thead th {\n",
       "        text-align: right;\n",
       "    }\n",
       "</style>\n",
       "<table border=\"1\" class=\"dataframe\">\n",
       "  <thead>\n",
       "    <tr style=\"text-align: right;\">\n",
       "      <th></th>\n",
       "      <th>RandD</th>\n",
       "      <th>Administration</th>\n",
       "      <th>Marketing</th>\n",
       "      <th>State</th>\n",
       "      <th>Profit</th>\n",
       "      <th>California</th>\n",
       "      <th>Florida</th>\n",
       "    </tr>\n",
       "  </thead>\n",
       "  <tbody>\n",
       "    <tr>\n",
       "      <th>0</th>\n",
       "      <td>165349.20</td>\n",
       "      <td>136897.80</td>\n",
       "      <td>471784.10</td>\n",
       "      <td>New York</td>\n",
       "      <td>192261.83</td>\n",
       "      <td>0.0</td>\n",
       "      <td>0.0</td>\n",
       "    </tr>\n",
       "    <tr>\n",
       "      <th>1</th>\n",
       "      <td>162597.70</td>\n",
       "      <td>151377.59</td>\n",
       "      <td>443898.53</td>\n",
       "      <td>California</td>\n",
       "      <td>191792.06</td>\n",
       "      <td>1.0</td>\n",
       "      <td>0.0</td>\n",
       "    </tr>\n",
       "    <tr>\n",
       "      <th>2</th>\n",
       "      <td>153441.51</td>\n",
       "      <td>101145.55</td>\n",
       "      <td>407934.54</td>\n",
       "      <td>Florida</td>\n",
       "      <td>191050.39</td>\n",
       "      <td>0.0</td>\n",
       "      <td>1.0</td>\n",
       "    </tr>\n",
       "    <tr>\n",
       "      <th>3</th>\n",
       "      <td>144372.41</td>\n",
       "      <td>118671.85</td>\n",
       "      <td>383199.62</td>\n",
       "      <td>New York</td>\n",
       "      <td>182901.99</td>\n",
       "      <td>0.0</td>\n",
       "      <td>0.0</td>\n",
       "    </tr>\n",
       "    <tr>\n",
       "      <th>4</th>\n",
       "      <td>142107.34</td>\n",
       "      <td>91391.77</td>\n",
       "      <td>366168.42</td>\n",
       "      <td>Florida</td>\n",
       "      <td>166187.94</td>\n",
       "      <td>0.0</td>\n",
       "      <td>1.0</td>\n",
       "    </tr>\n",
       "  </tbody>\n",
       "</table>\n",
       "</div>"
      ],
      "text/plain": [
       "       RandD  Administration  Marketing       State     Profit  California  \\\n",
       "0  165349.20       136897.80  471784.10    New York  192261.83         0.0   \n",
       "1  162597.70       151377.59  443898.53  California  191792.06         1.0   \n",
       "2  153441.51       101145.55  407934.54     Florida  191050.39         0.0   \n",
       "3  144372.41       118671.85  383199.62    New York  182901.99         0.0   \n",
       "4  142107.34        91391.77  366168.42     Florida  166187.94         0.0   \n",
       "\n",
       "   Florida  \n",
       "0      0.0  \n",
       "1      0.0  \n",
       "2      1.0  \n",
       "3      0.0  \n",
       "4      1.0  "
      ]
     },
     "execution_count": 11,
     "metadata": {},
     "output_type": "execute_result"
    }
   ],
   "source": [
    "dfcopy.head()"
   ]
  },
  {
   "cell_type": "code",
   "execution_count": 12,
   "id": "15a8c074",
   "metadata": {},
   "outputs": [],
   "source": [
    "dfcopy.drop('State',axis=1,inplace=True)"
   ]
  },
  {
   "cell_type": "code",
   "execution_count": 13,
   "id": "2ccc8019",
   "metadata": {},
   "outputs": [
    {
     "data": {
      "text/html": [
       "<div>\n",
       "<style scoped>\n",
       "    .dataframe tbody tr th:only-of-type {\n",
       "        vertical-align: middle;\n",
       "    }\n",
       "\n",
       "    .dataframe tbody tr th {\n",
       "        vertical-align: top;\n",
       "    }\n",
       "\n",
       "    .dataframe thead th {\n",
       "        text-align: right;\n",
       "    }\n",
       "</style>\n",
       "<table border=\"1\" class=\"dataframe\">\n",
       "  <thead>\n",
       "    <tr style=\"text-align: right;\">\n",
       "      <th></th>\n",
       "      <th>RandD</th>\n",
       "      <th>Administration</th>\n",
       "      <th>Marketing</th>\n",
       "      <th>Profit</th>\n",
       "      <th>California</th>\n",
       "      <th>Florida</th>\n",
       "    </tr>\n",
       "  </thead>\n",
       "  <tbody>\n",
       "    <tr>\n",
       "      <th>0</th>\n",
       "      <td>165349.20</td>\n",
       "      <td>136897.80</td>\n",
       "      <td>471784.10</td>\n",
       "      <td>192261.83</td>\n",
       "      <td>0.0</td>\n",
       "      <td>0.0</td>\n",
       "    </tr>\n",
       "    <tr>\n",
       "      <th>1</th>\n",
       "      <td>162597.70</td>\n",
       "      <td>151377.59</td>\n",
       "      <td>443898.53</td>\n",
       "      <td>191792.06</td>\n",
       "      <td>1.0</td>\n",
       "      <td>0.0</td>\n",
       "    </tr>\n",
       "    <tr>\n",
       "      <th>2</th>\n",
       "      <td>153441.51</td>\n",
       "      <td>101145.55</td>\n",
       "      <td>407934.54</td>\n",
       "      <td>191050.39</td>\n",
       "      <td>0.0</td>\n",
       "      <td>1.0</td>\n",
       "    </tr>\n",
       "    <tr>\n",
       "      <th>3</th>\n",
       "      <td>144372.41</td>\n",
       "      <td>118671.85</td>\n",
       "      <td>383199.62</td>\n",
       "      <td>182901.99</td>\n",
       "      <td>0.0</td>\n",
       "      <td>0.0</td>\n",
       "    </tr>\n",
       "    <tr>\n",
       "      <th>4</th>\n",
       "      <td>142107.34</td>\n",
       "      <td>91391.77</td>\n",
       "      <td>366168.42</td>\n",
       "      <td>166187.94</td>\n",
       "      <td>0.0</td>\n",
       "      <td>1.0</td>\n",
       "    </tr>\n",
       "  </tbody>\n",
       "</table>\n",
       "</div>"
      ],
      "text/plain": [
       "       RandD  Administration  Marketing     Profit  California  Florida\n",
       "0  165349.20       136897.80  471784.10  192261.83         0.0      0.0\n",
       "1  162597.70       151377.59  443898.53  191792.06         1.0      0.0\n",
       "2  153441.51       101145.55  407934.54  191050.39         0.0      1.0\n",
       "3  144372.41       118671.85  383199.62  182901.99         0.0      0.0\n",
       "4  142107.34        91391.77  366168.42  166187.94         0.0      1.0"
      ]
     },
     "execution_count": 13,
     "metadata": {},
     "output_type": "execute_result"
    }
   ],
   "source": [
    "dfcopy.head()"
   ]
  },
  {
   "cell_type": "code",
   "execution_count": 14,
   "id": "47e585a2",
   "metadata": {},
   "outputs": [
    {
     "data": {
      "text/html": [
       "<div>\n",
       "<style scoped>\n",
       "    .dataframe tbody tr th:only-of-type {\n",
       "        vertical-align: middle;\n",
       "    }\n",
       "\n",
       "    .dataframe tbody tr th {\n",
       "        vertical-align: top;\n",
       "    }\n",
       "\n",
       "    .dataframe thead th {\n",
       "        text-align: right;\n",
       "    }\n",
       "</style>\n",
       "<table border=\"1\" class=\"dataframe\">\n",
       "  <thead>\n",
       "    <tr style=\"text-align: right;\">\n",
       "      <th></th>\n",
       "      <th>RandD</th>\n",
       "      <th>Administration</th>\n",
       "      <th>Marketing</th>\n",
       "      <th>Profit</th>\n",
       "      <th>California</th>\n",
       "      <th>Florida</th>\n",
       "    </tr>\n",
       "  </thead>\n",
       "  <tbody>\n",
       "    <tr>\n",
       "      <th>RandD</th>\n",
       "      <td>1.000000</td>\n",
       "      <td>0.241955</td>\n",
       "      <td>0.724248</td>\n",
       "      <td>0.972900</td>\n",
       "      <td>-0.143165</td>\n",
       "      <td>0.105711</td>\n",
       "    </tr>\n",
       "    <tr>\n",
       "      <th>Administration</th>\n",
       "      <td>0.241955</td>\n",
       "      <td>1.000000</td>\n",
       "      <td>-0.032154</td>\n",
       "      <td>0.200717</td>\n",
       "      <td>-0.015478</td>\n",
       "      <td>0.010493</td>\n",
       "    </tr>\n",
       "    <tr>\n",
       "      <th>Marketing</th>\n",
       "      <td>0.724248</td>\n",
       "      <td>-0.032154</td>\n",
       "      <td>1.000000</td>\n",
       "      <td>0.747766</td>\n",
       "      <td>-0.168875</td>\n",
       "      <td>0.205685</td>\n",
       "    </tr>\n",
       "    <tr>\n",
       "      <th>Profit</th>\n",
       "      <td>0.972900</td>\n",
       "      <td>0.200717</td>\n",
       "      <td>0.747766</td>\n",
       "      <td>1.000000</td>\n",
       "      <td>-0.145837</td>\n",
       "      <td>0.116244</td>\n",
       "    </tr>\n",
       "    <tr>\n",
       "      <th>California</th>\n",
       "      <td>-0.143165</td>\n",
       "      <td>-0.015478</td>\n",
       "      <td>-0.168875</td>\n",
       "      <td>-0.145837</td>\n",
       "      <td>1.000000</td>\n",
       "      <td>-0.492366</td>\n",
       "    </tr>\n",
       "    <tr>\n",
       "      <th>Florida</th>\n",
       "      <td>0.105711</td>\n",
       "      <td>0.010493</td>\n",
       "      <td>0.205685</td>\n",
       "      <td>0.116244</td>\n",
       "      <td>-0.492366</td>\n",
       "      <td>1.000000</td>\n",
       "    </tr>\n",
       "  </tbody>\n",
       "</table>\n",
       "</div>"
      ],
      "text/plain": [
       "                   RandD  Administration  Marketing    Profit  California  \\\n",
       "RandD           1.000000        0.241955   0.724248  0.972900   -0.143165   \n",
       "Administration  0.241955        1.000000  -0.032154  0.200717   -0.015478   \n",
       "Marketing       0.724248       -0.032154   1.000000  0.747766   -0.168875   \n",
       "Profit          0.972900        0.200717   0.747766  1.000000   -0.145837   \n",
       "California     -0.143165       -0.015478  -0.168875 -0.145837    1.000000   \n",
       "Florida         0.105711        0.010493   0.205685  0.116244   -0.492366   \n",
       "\n",
       "                 Florida  \n",
       "RandD           0.105711  \n",
       "Administration  0.010493  \n",
       "Marketing       0.205685  \n",
       "Profit          0.116244  \n",
       "California     -0.492366  \n",
       "Florida         1.000000  "
      ]
     },
     "execution_count": 14,
     "metadata": {},
     "output_type": "execute_result"
    }
   ],
   "source": [
    "dfcopy.corr()"
   ]
  },
  {
   "cell_type": "code",
   "execution_count": 15,
   "id": "2ac7f119",
   "metadata": {},
   "outputs": [],
   "source": [
    "model1 = smf.ols('Profit~RandD+Administration+Marketing+California+Florida',data=dfcopy).fit()"
   ]
  },
  {
   "cell_type": "code",
   "execution_count": 16,
   "id": "42e7f592",
   "metadata": {},
   "outputs": [
    {
     "data": {
      "text/plain": [
       "Intercept         50083.456813\n",
       "RandD                 0.806023\n",
       "Administration       -0.027004\n",
       "Marketing             0.026980\n",
       "California           41.887019\n",
       "Florida             240.675812\n",
       "dtype: float64"
      ]
     },
     "execution_count": 16,
     "metadata": {},
     "output_type": "execute_result"
    }
   ],
   "source": [
    "model1.params"
   ]
  },
  {
   "cell_type": "code",
   "execution_count": 17,
   "id": "18a797c2",
   "metadata": {},
   "outputs": [
    {
     "name": "stdout",
     "output_type": "stream",
     "text": [
      "Intercept         5.757175e-09\n",
      "RandD             2.578772e-21\n",
      "Administration    6.077373e-01\n",
      "Marketing         1.226769e-01\n",
      "California        9.897941e-01\n",
      "Florida           9.428623e-01\n",
      "dtype: float64\n"
     ]
    }
   ],
   "source": [
    "print(model1.pvalues)"
   ]
  },
  {
   "cell_type": "code",
   "execution_count": 18,
   "id": "523dd909",
   "metadata": {},
   "outputs": [
    {
     "data": {
      "text/plain": [
       "(0.9507524843355148, 0.945156175737278)"
      ]
     },
     "execution_count": 18,
     "metadata": {},
     "output_type": "execute_result"
    }
   ],
   "source": [
    "(model1.rsquared,model1.rsquared_adj)"
   ]
  },
  {
   "cell_type": "code",
   "execution_count": 19,
   "id": "9a0b2517",
   "metadata": {},
   "outputs": [],
   "source": [
    "model2 = smf.ols('Profit~RandD+Administration+Marketing+Florida',data=dfcopy).fit()"
   ]
  },
  {
   "cell_type": "code",
   "execution_count": 20,
   "id": "05bf7f61",
   "metadata": {},
   "outputs": [
    {
     "name": "stdout",
     "output_type": "stream",
     "text": [
      "Intercept         1.639196e-09\n",
      "RandD             8.293975e-22\n",
      "Administration    6.037292e-01\n",
      "Marketing         1.184614e-01\n",
      "Florida           9.398330e-01\n",
      "dtype: float64\n"
     ]
    }
   ],
   "source": [
    "print(model2.pvalues)"
   ]
  },
  {
   "cell_type": "code",
   "execution_count": 21,
   "id": "8c7f5cd2",
   "metadata": {},
   "outputs": [
    {
     "data": {
      "text/plain": [
       "(0.9507522991055133, 0.94637472569267)"
      ]
     },
     "execution_count": 21,
     "metadata": {},
     "output_type": "execute_result"
    }
   ],
   "source": [
    "(model2.rsquared,model2.rsquared_adj)"
   ]
  },
  {
   "cell_type": "code",
   "execution_count": 22,
   "id": "452c04fe",
   "metadata": {},
   "outputs": [],
   "source": [
    "model3 = smf.ols('Profit~RandD+Administration+Marketing',data=dfcopy).fit()"
   ]
  },
  {
   "cell_type": "code",
   "execution_count": 23,
   "id": "f5a2846e",
   "metadata": {},
   "outputs": [
    {
     "name": "stdout",
     "output_type": "stream",
     "text": [
      "Intercept         1.057379e-09\n",
      "RandD             2.634968e-22\n",
      "Administration    6.017551e-01\n",
      "Marketing         1.047168e-01\n",
      "dtype: float64\n"
     ]
    }
   ],
   "source": [
    "print(model3.pvalues)"
   ]
  },
  {
   "cell_type": "code",
   "execution_count": 24,
   "id": "89b366f1",
   "metadata": {},
   "outputs": [
    {
     "data": {
      "text/plain": [
       "(0.9507459940683246, 0.9475337762901719)"
      ]
     },
     "execution_count": 24,
     "metadata": {},
     "output_type": "execute_result"
    }
   ],
   "source": [
    "(model3.rsquared,model3.rsquared_adj)"
   ]
  },
  {
   "cell_type": "code",
   "execution_count": 25,
   "id": "13d2ba39",
   "metadata": {},
   "outputs": [],
   "source": [
    "model4 = smf.ols('Profit~RandD+Marketing',data=dfcopy).fit()"
   ]
  },
  {
   "cell_type": "code",
   "execution_count": 26,
   "id": "2a90e597",
   "metadata": {},
   "outputs": [
    {
     "name": "stdout",
     "output_type": "stream",
     "text": [
      "Intercept    3.504062e-22\n",
      "RandD        6.040433e-24\n",
      "Marketing    6.003040e-02\n",
      "dtype: float64\n"
     ]
    }
   ],
   "source": [
    "print(model4.pvalues)"
   ]
  },
  {
   "cell_type": "code",
   "execution_count": 27,
   "id": "0df122e9",
   "metadata": {},
   "outputs": [
    {
     "data": {
      "text/plain": [
       "(0.9504503015559763, 0.9483418037498477)"
      ]
     },
     "execution_count": 27,
     "metadata": {},
     "output_type": "execute_result"
    }
   ],
   "source": [
    "(model4.rsquared,model4.rsquared_adj)"
   ]
  },
  {
   "cell_type": "code",
   "execution_count": 28,
   "id": "fb51130f",
   "metadata": {},
   "outputs": [],
   "source": [
    "model5 = smf.ols('Profit~RandD',data=dfcopy).fit()"
   ]
  },
  {
   "cell_type": "code",
   "execution_count": 29,
   "id": "845b0f07",
   "metadata": {},
   "outputs": [
    {
     "data": {
      "text/plain": [
       "Intercept    49032.899141\n",
       "RandD            0.854291\n",
       "dtype: float64"
      ]
     },
     "execution_count": 29,
     "metadata": {},
     "output_type": "execute_result"
    }
   ],
   "source": [
    "model5.params"
   ]
  },
  {
   "cell_type": "code",
   "execution_count": 30,
   "id": "a9742daa",
   "metadata": {},
   "outputs": [
    {
     "name": "stdout",
     "output_type": "stream",
     "text": [
      "Intercept    2.782697e-24\n",
      "RandD        3.500322e-32\n",
      "dtype: float64\n"
     ]
    }
   ],
   "source": [
    "print(model5.pvalues)"
   ]
  },
  {
   "cell_type": "code",
   "execution_count": 31,
   "id": "de1cc142",
   "metadata": {},
   "outputs": [
    {
     "data": {
      "text/plain": [
       "(0.9465353160804392, 0.9454214684987816)"
      ]
     },
     "execution_count": 31,
     "metadata": {},
     "output_type": "execute_result"
    }
   ],
   "source": [
    "(model5.rsquared,model5.rsquared_adj)"
   ]
  },
  {
   "cell_type": "code",
   "execution_count": 32,
   "id": "241077e2",
   "metadata": {},
   "outputs": [
    {
     "data": {
      "text/plain": [
       "<AxesSubplot:xlabel='RandD', ylabel='Profit'>"
      ]
     },
     "execution_count": 32,
     "metadata": {},
     "output_type": "execute_result"
    },
    {
     "data": {
      "image/png": "[encoded data removed]",
      "text/plain": [
       "<Figure size 432x288 with 1 Axes>"
      ]
     },
     "metadata": {
      "needs_background": "light"
     },
     "output_type": "display_data"
    }
   ],
   "source": [
    "sns.regplot(x=\"RandD\", y=\"Profit\", data=dfcopy)"
   ]
  },
  {
   "cell_type": "code",
   "execution_count": 33,
   "id": "3b233211",
   "metadata": {},
   "outputs": [
    {
     "data": {
      "text/plain": [
       "<AxesSubplot:xlabel='Profit'>"
      ]
     },
     "execution_count": 33,
     "metadata": {},
     "output_type": "execute_result"
    },
    {
     "data": {
      "image/png": "[encoded data removed]",
      "text/plain": [
       "<Figure size 432x288 with 1 Axes>"
      ]
     },
     "metadata": {
      "needs_background": "light"
     },
     "output_type": "display_data"
    }
   ],
   "source": [
    "sns.boxplot(x=dfcopy['Profit'])"
   ]
  },
  {
   "cell_type": "code",
   "execution_count": 34,
   "id": "7b550750",
   "metadata": {},
   "outputs": [
    {
     "data": {
      "text/plain": [
       "count        50.000000\n",
       "mean     112012.639200\n",
       "std       40306.180338\n",
       "min       14681.400000\n",
       "25%       90138.902500\n",
       "50%      107978.190000\n",
       "75%      139765.977500\n",
       "max      192261.830000\n",
       "Name: Profit, dtype: float64"
      ]
     },
     "execution_count": 34,
     "metadata": {},
     "output_type": "execute_result"
    }
   ],
   "source": [
    "dfcopy['Profit'].describe()"
   ]
  },
  {
   "cell_type": "code",
   "execution_count": 35,
   "id": "2c0f1439",
   "metadata": {},
   "outputs": [
    {
     "data": {
      "text/plain": [
       "49     14681.40\n",
       "48     35673.41\n",
       "47     42559.73\n",
       "46     49490.75\n",
       "45     64926.08\n",
       "44     65200.33\n",
       "43     69758.98\n",
       "42     71498.49\n",
       "41     77798.83\n",
       "40     78239.91\n",
       "39     81005.76\n",
       "38     81229.06\n",
       "37     89949.14\n",
       "36     90708.19\n",
       "35     96479.51\n",
       "34     96712.80\n",
       "33     96778.92\n",
       "32     97427.84\n",
       "31     97483.56\n",
       "30     99937.59\n",
       "29    101004.64\n",
       "28    103282.38\n",
       "27    105008.31\n",
       "26    105733.54\n",
       "25    107404.34\n",
       "24    108552.04\n",
       "23    108733.99\n",
       "22    110352.25\n",
       "21    111313.02\n",
       "20    118474.03\n",
       "19    122776.86\n",
       "18    124266.90\n",
       "17    125370.37\n",
       "16    126992.93\n",
       "15    129917.04\n",
       "14    132602.65\n",
       "13    134307.35\n",
       "12    141585.52\n",
       "11    144259.40\n",
       "10    146121.95\n",
       "9     149759.96\n",
       "8     152211.77\n",
       "7     155752.60\n",
       "6     156122.51\n",
       "5     156991.12\n",
       "4     166187.94\n",
       "3     182901.99\n",
       "2     191050.39\n",
       "1     191792.06\n",
       "0     192261.83\n",
       "Name: Profit, dtype: float64"
      ]
     },
     "execution_count": 35,
     "metadata": {},
     "output_type": "execute_result"
    }
   ],
   "source": [
    "dfcopy['Profit'].sort_values()"
   ]
  },
  {
   "cell_type": "code",
   "execution_count": 36,
   "id": "9d29c2d6",
   "metadata": {},
   "outputs": [
    {
     "data": {
      "text/html": [
       "<div>\n",
       "<style scoped>\n",
       "    .dataframe tbody tr th:only-of-type {\n",
       "        vertical-align: middle;\n",
       "    }\n",
       "\n",
       "    .dataframe tbody tr th {\n",
       "        vertical-align: top;\n",
       "    }\n",
       "\n",
       "    .dataframe thead th {\n",
       "        text-align: right;\n",
       "    }\n",
       "</style>\n",
       "<table border=\"1\" class=\"dataframe\">\n",
       "  <thead>\n",
       "    <tr style=\"text-align: right;\">\n",
       "      <th></th>\n",
       "      <th>RandD</th>\n",
       "      <th>Administration</th>\n",
       "      <th>Marketing</th>\n",
       "      <th>Profit</th>\n",
       "      <th>California</th>\n",
       "      <th>Florida</th>\n",
       "    </tr>\n",
       "  </thead>\n",
       "  <tbody>\n",
       "    <tr>\n",
       "      <th>45</th>\n",
       "      <td>1000.23</td>\n",
       "      <td>124153.04</td>\n",
       "      <td>1903.93</td>\n",
       "      <td>64926.08</td>\n",
       "      <td>0.0</td>\n",
       "      <td>0.0</td>\n",
       "    </tr>\n",
       "    <tr>\n",
       "      <th>46</th>\n",
       "      <td>1315.46</td>\n",
       "      <td>115816.21</td>\n",
       "      <td>297114.46</td>\n",
       "      <td>49490.75</td>\n",
       "      <td>0.0</td>\n",
       "      <td>1.0</td>\n",
       "    </tr>\n",
       "    <tr>\n",
       "      <th>47</th>\n",
       "      <td>0.00</td>\n",
       "      <td>135426.92</td>\n",
       "      <td>0.00</td>\n",
       "      <td>42559.73</td>\n",
       "      <td>1.0</td>\n",
       "      <td>0.0</td>\n",
       "    </tr>\n",
       "    <tr>\n",
       "      <th>48</th>\n",
       "      <td>542.05</td>\n",
       "      <td>51743.15</td>\n",
       "      <td>0.00</td>\n",
       "      <td>35673.41</td>\n",
       "      <td>0.0</td>\n",
       "      <td>0.0</td>\n",
       "    </tr>\n",
       "    <tr>\n",
       "      <th>49</th>\n",
       "      <td>0.00</td>\n",
       "      <td>116983.80</td>\n",
       "      <td>45173.06</td>\n",
       "      <td>14681.40</td>\n",
       "      <td>1.0</td>\n",
       "      <td>0.0</td>\n",
       "    </tr>\n",
       "  </tbody>\n",
       "</table>\n",
       "</div>"
      ],
      "text/plain": [
       "      RandD  Administration  Marketing    Profit  California  Florida\n",
       "45  1000.23       124153.04    1903.93  64926.08         0.0      0.0\n",
       "46  1315.46       115816.21  297114.46  49490.75         0.0      1.0\n",
       "47     0.00       135426.92       0.00  42559.73         1.0      0.0\n",
       "48   542.05        51743.15       0.00  35673.41         0.0      0.0\n",
       "49     0.00       116983.80   45173.06  14681.40         1.0      0.0"
      ]
     },
     "execution_count": 36,
     "metadata": {},
     "output_type": "execute_result"
    }
   ],
   "source": [
    "dfcopy.tail()"
   ]
  },
  {
   "cell_type": "code",
   "execution_count": 37,
   "id": "2fc1c4f4",
   "metadata": {},
   "outputs": [],
   "source": [
    "dfcopy.drop(index=49,inplace=True)"
   ]
  },
  {
   "cell_type": "code",
   "execution_count": 38,
   "id": "90d86531",
   "metadata": {},
   "outputs": [
    {
     "name": "stdout",
     "output_type": "stream",
     "text": [
      "<class 'pandas.core.frame.DataFrame'>\n",
      "Int64Index: 49 entries, 0 to 48\n",
      "Data columns (total 6 columns):\n",
      " #   Column          Non-Null Count  Dtype  \n",
      "---  ------          --------------  -----  \n",
      " 0   RandD           49 non-null     float64\n",
      " 1   Administration  49 non-null     float64\n",
      " 2   Marketing       49 non-null     float64\n",
      " 3   Profit          49 non-null     float64\n",
      " 4   California      49 non-null     float64\n",
      " 5   Florida         49 non-null     float64\n",
      "dtypes: float64(6)\n",
      "memory usage: 2.7 KB\n"
     ]
    }
   ],
   "source": [
    "dfcopy.info()"
   ]
  },
  {
   "cell_type": "code",
   "execution_count": 39,
   "id": "e240154e",
   "metadata": {},
   "outputs": [],
   "source": [
    "model6 = smf.ols('Profit~RandD',data=dfcopy).fit()"
   ]
  },
  {
   "cell_type": "code",
   "execution_count": 40,
   "id": "6e40c066",
   "metadata": {},
   "outputs": [
    {
     "data": {
      "text/plain": [
       "Intercept    51723.694794\n",
       "RandD            0.827841\n",
       "dtype: float64"
      ]
     },
     "execution_count": 40,
     "metadata": {},
     "output_type": "execute_result"
    }
   ],
   "source": [
    "model6.params"
   ]
  },
  {
   "cell_type": "code",
   "execution_count": 41,
   "id": "c05a5465",
   "metadata": {},
   "outputs": [
    {
     "name": "stdout",
     "output_type": "stream",
     "text": [
      "Intercept    2.221695e-27\n",
      "RandD        7.555104e-34\n",
      "dtype: float64\n"
     ]
    }
   ],
   "source": [
    "print(model6.pvalues)"
   ]
  },
  {
   "cell_type": "code",
   "execution_count": 42,
   "id": "fc2a1767",
   "metadata": {},
   "outputs": [
    {
     "data": {
      "text/plain": [
       "(0.9573395972488337, 0.9564319291051918)"
      ]
     },
     "execution_count": 42,
     "metadata": {},
     "output_type": "execute_result"
    }
   ],
   "source": [
    "(model6.rsquared,model6.rsquared_adj)"
   ]
  },
  {
   "cell_type": "code",
   "execution_count": 43,
   "id": "5762bd9d",
   "metadata": {},
   "outputs": [
    {
     "data": {
      "text/plain": [
       "<AxesSubplot:xlabel='RandD', ylabel='Profit'>"
      ]
     },
     "execution_count": 43,
     "metadata": {},
     "output_type": "execute_result"
    },
    {
     "data": {
      "image/png": "[encoded data removed]",
      "text/plain": [
       "<Figure size 432x288 with 1 Axes>"
      ]
     },
     "metadata": {
      "needs_background": "light"
     },
     "output_type": "display_data"
    }
   ],
   "source": [
    "sns.regplot(x=\"RandD\", y=\"Profit\", data=dfcopy)"
   ]
  },
  {
   "cell_type": "code",
   "execution_count": 44,
   "id": "2d2a54b6",
   "metadata": {},
   "outputs": [
    {
     "name": "stdout",
     "output_type": "stream",
     "text": [
      "model1 \n",
      " 0.945156175737278\n",
      "model2 \n",
      " 0.94637472569267\n",
      "model3 \n",
      " 0.9475337762901719\n",
      "model4 \n",
      " 0.9483418037498477\n",
      "model5 \n",
      " 0.9454214684987816\n",
      "model6 \n",
      " 0.9564319291051918\n"
     ]
    }
   ],
   "source": [
    "print('model1', '\\n', model1.rsquared_adj)\n",
    "print('model2', '\\n', model2.rsquared_adj)\n",
    "print('model3', '\\n', model3.rsquared_adj)\n",
    "print('model4', '\\n', model4.rsquared_adj)\n",
    "print('model5', '\\n', model5.rsquared_adj)\n",
    "print('model6', '\\n', model6.rsquared_adj)"
   ]
  },
  {
   "cell_type": "code",
   "execution_count": 45,
   "id": "7b831ea6",
   "metadata": {},
   "outputs": [],
   "source": [
    "from statsmodels.stats.outliers_influence import variance_inflation_factor\n",
    "from statsmodels.tools.tools import add_constant"
   ]
  },
  {
   "cell_type": "code",
   "execution_count": 46,
   "id": "0c8c17f9",
   "metadata": {},
   "outputs": [
    {
     "name": "stdout",
     "output_type": "stream",
     "text": [
      "<class 'pandas.core.frame.DataFrame'>\n",
      "Int64Index: 49 entries, 0 to 48\n",
      "Data columns (total 6 columns):\n",
      " #   Column          Non-Null Count  Dtype  \n",
      "---  ------          --------------  -----  \n",
      " 0   RandD           49 non-null     float64\n",
      " 1   Administration  49 non-null     float64\n",
      " 2   Marketing       49 non-null     float64\n",
      " 3   Profit          49 non-null     float64\n",
      " 4   California      49 non-null     float64\n",
      " 5   Florida         49 non-null     float64\n",
      "dtypes: float64(6)\n",
      "memory usage: 2.7 KB\n"
     ]
    }
   ],
   "source": [
    "dfcopy.info()"
   ]
  },
  {
   "cell_type": "code",
   "execution_count": 47,
   "id": "a4d532fe",
   "metadata": {},
   "outputs": [],
   "source": [
    "dfcopy2 = dfcopy.drop('Profit',axis=1)"
   ]
  },
  {
   "cell_type": "code",
   "execution_count": 48,
   "id": "cfea938a",
   "metadata": {},
   "outputs": [
    {
     "name": "stdout",
     "output_type": "stream",
     "text": [
      "<class 'pandas.core.frame.DataFrame'>\n",
      "Int64Index: 49 entries, 0 to 48\n",
      "Data columns (total 5 columns):\n",
      " #   Column          Non-Null Count  Dtype  \n",
      "---  ------          --------------  -----  \n",
      " 0   RandD           49 non-null     float64\n",
      " 1   Administration  49 non-null     float64\n",
      " 2   Marketing       49 non-null     float64\n",
      " 3   California      49 non-null     float64\n",
      " 4   Florida         49 non-null     float64\n",
      "dtypes: float64(5)\n",
      "memory usage: 2.3 KB\n"
     ]
    }
   ],
   "source": [
    "dfcopy2.info()"
   ]
  },
  {
   "cell_type": "code",
   "execution_count": 49,
   "id": "bfba5582",
   "metadata": {},
   "outputs": [
    {
     "name": "stderr",
     "output_type": "stream",
     "text": [
      "C:\\Users\\Patel\\anaconda3\\lib\\site-packages\\statsmodels\\tsa\\tsatools.py:142: FutureWarning: In a future version of pandas all arguments of concat except for the argument 'objs' will be keyword-only\n",
      "  x = pd.concat(x[::order], 1)\n"
     ]
    }
   ],
   "source": [
    "dfcopy2 = add_constant(dfcopy2)"
   ]
  },
  {
   "cell_type": "code",
   "execution_count": 50,
   "id": "367a9d99",
   "metadata": {},
   "outputs": [
    {
     "name": "stdout",
     "output_type": "stream",
     "text": [
      "<class 'pandas.core.frame.DataFrame'>\n",
      "Int64Index: 49 entries, 0 to 48\n",
      "Data columns (total 6 columns):\n",
      " #   Column          Non-Null Count  Dtype  \n",
      "---  ------          --------------  -----  \n",
      " 0   const           49 non-null     float64\n",
      " 1   RandD           49 non-null     float64\n",
      " 2   Administration  49 non-null     float64\n",
      " 3   Marketing       49 non-null     float64\n",
      " 4   California      49 non-null     float64\n",
      " 5   Florida         49 non-null     float64\n",
      "dtypes: float64(6)\n",
      "memory usage: 2.7 KB\n"
     ]
    }
   ],
   "source": [
    "dfcopy2.info()"
   ]
  },
  {
   "cell_type": "code",
   "execution_count": 51,
   "id": "d59e3846",
   "metadata": {},
   "outputs": [
    {
     "data": {
      "text/plain": [
       "2.4008207124931076"
      ]
     },
     "execution_count": 51,
     "metadata": {},
     "output_type": "execute_result"
    }
   ],
   "source": [
    "variance_inflation_factor(dfcopy2.values,1)"
   ]
  },
  {
   "cell_type": "code",
   "execution_count": 52,
   "id": "1c56f279",
   "metadata": {},
   "outputs": [
    {
     "data": {
      "text/plain": [
       "1.1779356634267575"
      ]
     },
     "execution_count": 52,
     "metadata": {},
     "output_type": "execute_result"
    }
   ],
   "source": [
    "variance_inflation_factor(dfcopy2.values,2)"
   ]
  },
  {
   "cell_type": "code",
   "execution_count": 53,
   "id": "e24fa429",
   "metadata": {},
   "outputs": [
    {
     "data": {
      "text/plain": [
       "2.324983002632334"
      ]
     },
     "execution_count": 53,
     "metadata": {},
     "output_type": "execute_result"
    }
   ],
   "source": [
    "variance_inflation_factor(dfcopy2.values,3)"
   ]
  },
  {
   "cell_type": "code",
   "execution_count": 54,
   "id": "7f712a60",
   "metadata": {},
   "outputs": [
    {
     "data": {
      "text/plain": [
       "1.3137077106688828"
      ]
     },
     "execution_count": 54,
     "metadata": {},
     "output_type": "execute_result"
    }
   ],
   "source": [
    "variance_inflation_factor(dfcopy2.values,4)"
   ]
  },
  {
   "cell_type": "code",
   "execution_count": 55,
   "id": "20600782",
   "metadata": {},
   "outputs": [
    {
     "data": {
      "text/plain": [
       "1.3484173580126628"
      ]
     },
     "execution_count": 55,
     "metadata": {},
     "output_type": "execute_result"
    }
   ],
   "source": [
    "variance_inflation_factor(dfcopy2.values,5)"
   ]
  },
  {
   "cell_type": "code",
   "execution_count": 57,
   "id": "7c4fc580",
   "metadata": {},
   "outputs": [
    {
     "name": "stderr",
     "output_type": "stream",
     "text": [
      "C:\\Users\\Patel\\anaconda3\\lib\\site-packages\\statsmodels\\graphics\\gofplots.py:993: UserWarning: marker is redundantly defined by the 'marker' keyword argument and the fmt string \"bo\" (-> marker='o'). The keyword argument will take precedence.\n",
      "  ax.plot(x, y, fmt, **plot_style)\n"
     ]
    },
    {
     "data": {
      "image/png": "[encoded data removed]",
      "text/plain": [
       "<Figure size 432x288 with 1 Axes>"
      ]
     },
     "metadata": {
      "needs_background": "light"
     },
     "output_type": "display_data"
    }
   ],
   "source": [
    "import statsmodels.api as sm\n",
    "import matplotlib.pyplot as plt\n",
    "qqplot=sm.qqplot(model6.resid,line='q')\n",
    "plt.title(\"Normal Q-Q plot of residuals\")\n",
    "plt.show()"
   ]
  },
  {
   "cell_type": "code",
   "execution_count": 58,
   "id": "b93c63df",
   "metadata": {},
   "outputs": [],
   "source": [
    "def get_standardized_values( vals ):\n",
    "    return (vals - vals.mean())/vals.std()"
   ]
  },
  {
   "cell_type": "code",
   "execution_count": 59,
   "id": "b3520c49",
   "metadata": {},
   "outputs": [
    {
     "data": {
      "image/png": "[encoded data removed]",
      "text/plain": [
       "<Figure size 432x288 with 1 Axes>"
      ]
     },
     "metadata": {
      "needs_background": "light"
     },
     "output_type": "display_data"
    }
   ],
   "source": [
    "plt.scatter(get_standardized_values(model6.fittedvalues),\n",
    "            get_standardized_values(model6.resid))\n",
    "\n",
    "plt.title('Residual Plot')\n",
    "plt.xlabel('Standardized Fitted values')\n",
    "plt.ylabel('Standardized residual values')\n",
    "plt.show()"
   ]
  },
  {
   "cell_type": "code",
   "execution_count": 60,
   "id": "91a7482f",
   "metadata": {},
   "outputs": [],
   "source": [
    "model_influence = model6.get_influence()\n",
    "(c, _) = model_influence.cooks_distance"
   ]
  },
  {
   "cell_type": "code",
   "execution_count": 62,
   "id": "c0a96b08",
   "metadata": {},
   "outputs": [],
   "source": [
    "import numpy as np"
   ]
  },
  {
   "cell_type": "code",
   "execution_count": 63,
   "id": "ceea5c62",
   "metadata": {},
   "outputs": [
    {
     "data": {
      "image/png": "[encoded data removed]",
      "text/plain": [
       "<Figure size 1440x504 with 1 Axes>"
      ]
     },
     "metadata": {
      "needs_background": "light"
     },
     "output_type": "display_data"
    }
   ],
   "source": [
    "fig = plt.subplots(figsize=(20, 7))\n",
    "plt.stem(np.arange(len(dfcopy)), np.round(c, 3))\n",
    "plt.xlabel('Row index')\n",
    "plt.ylabel('Cooks Distance')\n",
    "plt.show()"
   ]
  },
  {
   "cell_type": "code",
   "execution_count": 64,
   "id": "e74c58f5",
   "metadata": {},
   "outputs": [
    {
     "data": {
      "text/plain": [
       "(48, 0.19525888916998)"
      ]
     },
     "execution_count": 64,
     "metadata": {},
     "output_type": "execute_result"
    }
   ],
   "source": [
    "(np.argmax(c),np.max(c))"
   ]
  },
  {
   "cell_type": "code",
   "execution_count": 65,
   "id": "9a21e195",
   "metadata": {},
   "outputs": [
    {
     "data": {
      "image/png": "[encoded data removed]",
      "text/plain": [
       "<Figure size 432x288 with 1 Axes>"
      ]
     },
     "metadata": {
      "needs_background": "light"
     },
     "output_type": "display_data"
    }
   ],
   "source": [
    "from statsmodels.graphics.regressionplots import influence_plot\n",
    "influence_plot(model6)\n",
    "plt.show()"
   ]
  },
  {
   "cell_type": "code",
   "execution_count": 66,
   "id": "240521ce",
   "metadata": {},
   "outputs": [],
   "source": [
    "k = dfcopy.shape[1]\n",
    "n = dfcopy.shape[0]\n",
    "leverage_cutoff = 3*((k + 1)/n)"
   ]
  },
  {
   "cell_type": "code",
   "execution_count": 67,
   "id": "74bb85a6",
   "metadata": {},
   "outputs": [
    {
     "data": {
      "text/plain": [
       "6"
      ]
     },
     "execution_count": 67,
     "metadata": {},
     "output_type": "execute_result"
    }
   ],
   "source": [
    "k"
   ]
  },
  {
   "cell_type": "code",
   "execution_count": 68,
   "id": "5460b73d",
   "metadata": {},
   "outputs": [
    {
     "data": {
      "text/plain": [
       "49"
      ]
     },
     "execution_count": 68,
     "metadata": {},
     "output_type": "execute_result"
    }
   ],
   "source": [
    "n"
   ]
  },
  {
   "cell_type": "code",
   "execution_count": 69,
   "id": "2aeeeda7",
   "metadata": {},
   "outputs": [
    {
     "data": {
      "text/plain": [
       "0.42857142857142855"
      ]
     },
     "execution_count": 69,
     "metadata": {},
     "output_type": "execute_result"
    }
   ],
   "source": [
    "leverage_cutoff"
   ]
  },
  {
   "cell_type": "code",
   "execution_count": 70,
   "id": "12c0b3bb",
   "metadata": {},
   "outputs": [
    {
     "data": {
      "text/html": [
       "<div>\n",
       "<style scoped>\n",
       "    .dataframe tbody tr th:only-of-type {\n",
       "        vertical-align: middle;\n",
       "    }\n",
       "\n",
       "    .dataframe tbody tr th {\n",
       "        vertical-align: top;\n",
       "    }\n",
       "\n",
       "    .dataframe thead th {\n",
       "        text-align: right;\n",
       "    }\n",
       "</style>\n",
       "<table border=\"1\" class=\"dataframe\">\n",
       "  <thead>\n",
       "    <tr style=\"text-align: right;\">\n",
       "      <th></th>\n",
       "      <th>RandD</th>\n",
       "      <th>Administration</th>\n",
       "      <th>Marketing</th>\n",
       "      <th>Profit</th>\n",
       "      <th>California</th>\n",
       "      <th>Florida</th>\n",
       "    </tr>\n",
       "  </thead>\n",
       "  <tbody>\n",
       "    <tr>\n",
       "      <th>48</th>\n",
       "      <td>542.05</td>\n",
       "      <td>51743.15</td>\n",
       "      <td>0.0</td>\n",
       "      <td>35673.41</td>\n",
       "      <td>0.0</td>\n",
       "      <td>0.0</td>\n",
       "    </tr>\n",
       "  </tbody>\n",
       "</table>\n",
       "</div>"
      ],
      "text/plain": [
       "     RandD  Administration  Marketing    Profit  California  Florida\n",
       "48  542.05        51743.15        0.0  35673.41         0.0      0.0"
      ]
     },
     "execution_count": 70,
     "metadata": {},
     "output_type": "execute_result"
    }
   ],
   "source": [
    "dfcopy[dfcopy.index.isin([48])]"
   ]
  },
  {
   "cell_type": "code",
   "execution_count": 71,
   "id": "9e5589fd",
   "metadata": {},
   "outputs": [],
   "source": [
    "dfcopy.drop(index=48,inplace=True)"
   ]
  },
  {
   "cell_type": "code",
   "execution_count": 72,
   "id": "8b48f388",
   "metadata": {},
   "outputs": [],
   "source": [
    "model7 = smf.ols('Profit~RandD',data=dfcopy).fit()"
   ]
  },
  {
   "cell_type": "code",
   "execution_count": 73,
   "id": "4009b232",
   "metadata": {},
   "outputs": [
    {
     "data": {
      "text/plain": [
       "Intercept    53117.192419\n",
       "RandD            0.814169\n",
       "dtype: float64"
      ]
     },
     "execution_count": 73,
     "metadata": {},
     "output_type": "execute_result"
    }
   ],
   "source": [
    "model7.params"
   ]
  },
  {
   "cell_type": "code",
   "execution_count": 74,
   "id": "9f1053cc",
   "metadata": {},
   "outputs": [
    {
     "name": "stdout",
     "output_type": "stream",
     "text": [
      "Intercept    1.553763e-27\n",
      "RandD        2.914455e-33\n",
      "dtype: float64\n"
     ]
    }
   ],
   "source": [
    "print(model7.pvalues)"
   ]
  },
  {
   "cell_type": "code",
   "execution_count": 75,
   "id": "2e0c1dd5",
   "metadata": {},
   "outputs": [
    {
     "data": {
      "text/plain": [
       "(0.9577780239068537, 0.9568601548613506)"
      ]
     },
     "execution_count": 75,
     "metadata": {},
     "output_type": "execute_result"
    }
   ],
   "source": [
    "(model7.rsquared,model7.rsquared_adj)"
   ]
  },
  {
   "cell_type": "code",
   "execution_count": 76,
   "id": "4a0b7da0",
   "metadata": {},
   "outputs": [
    {
     "data": {
      "text/plain": [
       "<AxesSubplot:xlabel='RandD', ylabel='Profit'>"
      ]
     },
     "execution_count": 76,
     "metadata": {},
     "output_type": "execute_result"
    },
    {
     "data": {
      "image/png": "[encoded data removed]",
      "text/plain": [
       "<Figure size 432x288 with 1 Axes>"
      ]
     },
     "metadata": {
      "needs_background": "light"
     },
     "output_type": "display_data"
    }
   ],
   "source": [
    "sns.regplot(x=\"RandD\", y=\"Profit\", data=dfcopy)"
   ]
  },
  {
   "cell_type": "code",
   "execution_count": 77,
   "id": "975a1db6",
   "metadata": {},
   "outputs": [],
   "source": [
    "model_influence = model7.get_influence()\n",
    "(c, _) = model_influence.cooks_distance"
   ]
  },
  {
   "cell_type": "code",
   "execution_count": 78,
   "id": "5049ff7a",
   "metadata": {},
   "outputs": [
    {
     "data": {
      "image/png": "[encoded data removed]",
      "text/plain": [
       "<Figure size 1440x504 with 1 Axes>"
      ]
     },
     "metadata": {
      "needs_background": "light"
     },
     "output_type": "display_data"
    }
   ],
   "source": [
    "fig = plt.subplots(figsize=(20, 7))\n",
    "plt.stem(np.arange(len(dfcopy)), np.round(c, 3))\n",
    "plt.xlabel('Row index')\n",
    "plt.ylabel('Cooks Distance')\n",
    "plt.show()"
   ]
  },
  {
   "cell_type": "markdown",
   "id": "ea98c6a7",
   "metadata": {},
   "source": [
    "# Toyota Corolla"
   ]
  },
  {
   "cell_type": "code",
   "execution_count": 17,
   "id": "5954d33f",
   "metadata": {},
   "outputs": [],
   "source": [
    "import pandas as pd\n",
    "import statsmodels.formula.api as smf\n",
    "import seaborn as sns"
   ]
  },
  {
   "cell_type": "code",
   "execution_count": 18,
   "id": "5cac29d3",
   "metadata": {},
   "outputs": [],
   "source": [
    "tcdf=pd.read_csv(\"D:\\\\ExcelR\\\\A5 multi linear regression\\\\ToyotaCorolla.csv\",encoding='unicode_escape')"
   ]
  },
  {
   "cell_type": "code",
   "execution_count": 19,
   "id": "9681a939",
   "metadata": {},
   "outputs": [
    {
     "name": "stdout",
     "output_type": "stream",
     "text": [
      "<class 'pandas.core.frame.DataFrame'>\n",
      "RangeIndex: 1436 entries, 0 to 1435\n",
      "Data columns (total 38 columns):\n",
      " #   Column            Non-Null Count  Dtype \n",
      "---  ------            --------------  ----- \n",
      " 0   Id                1436 non-null   int64 \n",
      " 1   Model             1436 non-null   object\n",
      " 2   Price             1436 non-null   int64 \n",
      " 3   Age_08_04         1436 non-null   int64 \n",
      " 4   Mfg_Month         1436 non-null   int64 \n",
      " 5   Mfg_Year          1436 non-null   int64 \n",
      " 6   KM                1436 non-null   int64 \n",
      " 7   Fuel_Type         1436 non-null   object\n",
      " 8   HP                1436 non-null   int64 \n",
      " 9   Met_Color         1436 non-null   int64 \n",
      " 10  Color             1436 non-null   object\n",
      " 11  Automatic         1436 non-null   int64 \n",
      " 12  cc                1436 non-null   int64 \n",
      " 13  Doors             1436 non-null   int64 \n",
      " 14  Cylinders         1436 non-null   int64 \n",
      " 15  Gears             1436 non-null   int64 \n",
      " 16  Quarterly_Tax     1436 non-null   int64 \n",
      " 17  Weight            1436 non-null   int64 \n",
      " 18  Mfr_Guarantee     1436 non-null   int64 \n",
      " 19  BOVAG_Guarantee   1436 non-null   int64 \n",
      " 20  Guarantee_Period  1436 non-null   int64 \n",
      " 21  ABS               1436 non-null   int64 \n",
      " 22  Airbag_1          1436 non-null   int64 \n",
      " 23  Airbag_2          1436 non-null   int64 \n",
      " 24  Airco             1436 non-null   int64 \n",
      " 25  Automatic_airco   1436 non-null   int64 \n",
      " 26  Boardcomputer     1436 non-null   int64 \n",
      " 27  CD_Player         1436 non-null   int64 \n",
      " 28  Central_Lock      1436 non-null   int64 \n",
      " 29  Powered_Windows   1436 non-null   int64 \n",
      " 30  Power_Steering    1436 non-null   int64 \n",
      " 31  Radio             1436 non-null   int64 \n",
      " 32  Mistlamps         1436 non-null   int64 \n",
      " 33  Sport_Model       1436 non-null   int64 \n",
      " 34  Backseat_Divider  1436 non-null   int64 \n",
      " 35  Metallic_Rim      1436 non-null   int64 \n",
      " 36  Radio_cassette    1436 non-null   int64 \n",
      " 37  Tow_Bar           1436 non-null   int64 \n",
      "dtypes: int64(35), object(3)\n",
      "memory usage: 426.4+ KB\n"
     ]
    }
   ],
   "source": [
    "tcdf.info()"
   ]
  },
  {
   "cell_type": "code",
   "execution_count": 20,
   "id": "9866a583",
   "metadata": {},
   "outputs": [
    {
     "data": {
      "text/html": [
       "<div>\n",
       "<style scoped>\n",
       "    .dataframe tbody tr th:only-of-type {\n",
       "        vertical-align: middle;\n",
       "    }\n",
       "\n",
       "    .dataframe tbody tr th {\n",
       "        vertical-align: top;\n",
       "    }\n",
       "\n",
       "    .dataframe thead th {\n",
       "        text-align: right;\n",
       "    }\n",
       "</style>\n",
       "<table border=\"1\" class=\"dataframe\">\n",
       "  <thead>\n",
       "    <tr style=\"text-align: right;\">\n",
       "      <th></th>\n",
       "      <th>Id</th>\n",
       "      <th>Price</th>\n",
       "      <th>Age_08_04</th>\n",
       "      <th>Mfg_Month</th>\n",
       "      <th>Mfg_Year</th>\n",
       "      <th>KM</th>\n",
       "      <th>HP</th>\n",
       "      <th>Met_Color</th>\n",
       "      <th>Automatic</th>\n",
       "      <th>cc</th>\n",
       "      <th>...</th>\n",
       "      <th>Central_Lock</th>\n",
       "      <th>Powered_Windows</th>\n",
       "      <th>Power_Steering</th>\n",
       "      <th>Radio</th>\n",
       "      <th>Mistlamps</th>\n",
       "      <th>Sport_Model</th>\n",
       "      <th>Backseat_Divider</th>\n",
       "      <th>Metallic_Rim</th>\n",
       "      <th>Radio_cassette</th>\n",
       "      <th>Tow_Bar</th>\n",
       "    </tr>\n",
       "  </thead>\n",
       "  <tbody>\n",
       "    <tr>\n",
       "      <th>Id</th>\n",
       "      <td>1.000000</td>\n",
       "      <td>-0.738250</td>\n",
       "      <td>0.906132</td>\n",
       "      <td>0.043742</td>\n",
       "      <td>-0.919523</td>\n",
       "      <td>0.273298</td>\n",
       "      <td>-0.109375</td>\n",
       "      <td>-0.079713</td>\n",
       "      <td>0.066265</td>\n",
       "      <td>-0.117704</td>\n",
       "      <td>...</td>\n",
       "      <td>-0.238940</td>\n",
       "      <td>-0.236723</td>\n",
       "      <td>-0.091587</td>\n",
       "      <td>-0.010971</td>\n",
       "      <td>-0.139708</td>\n",
       "      <td>-0.028704</td>\n",
       "      <td>-0.136398</td>\n",
       "      <td>-0.022232</td>\n",
       "      <td>-0.011611</td>\n",
       "      <td>0.159171</td>\n",
       "    </tr>\n",
       "    <tr>\n",
       "      <th>Price</th>\n",
       "      <td>-0.738250</td>\n",
       "      <td>1.000000</td>\n",
       "      <td>-0.876590</td>\n",
       "      <td>-0.018138</td>\n",
       "      <td>0.885159</td>\n",
       "      <td>-0.569960</td>\n",
       "      <td>0.314990</td>\n",
       "      <td>0.108905</td>\n",
       "      <td>0.033081</td>\n",
       "      <td>0.126389</td>\n",
       "      <td>...</td>\n",
       "      <td>0.343458</td>\n",
       "      <td>0.356518</td>\n",
       "      <td>0.064275</td>\n",
       "      <td>-0.041887</td>\n",
       "      <td>0.222083</td>\n",
       "      <td>0.164121</td>\n",
       "      <td>0.102569</td>\n",
       "      <td>0.108564</td>\n",
       "      <td>-0.043179</td>\n",
       "      <td>-0.172369</td>\n",
       "    </tr>\n",
       "    <tr>\n",
       "      <th>Age_08_04</th>\n",
       "      <td>0.906132</td>\n",
       "      <td>-0.876590</td>\n",
       "      <td>1.000000</td>\n",
       "      <td>-0.123255</td>\n",
       "      <td>-0.983661</td>\n",
       "      <td>0.505672</td>\n",
       "      <td>-0.156622</td>\n",
       "      <td>-0.108150</td>\n",
       "      <td>0.031717</td>\n",
       "      <td>-0.098084</td>\n",
       "      <td>...</td>\n",
       "      <td>-0.279631</td>\n",
       "      <td>-0.283856</td>\n",
       "      <td>-0.069192</td>\n",
       "      <td>0.013791</td>\n",
       "      <td>-0.126895</td>\n",
       "      <td>-0.110988</td>\n",
       "      <td>-0.116751</td>\n",
       "      <td>-0.040045</td>\n",
       "      <td>0.012857</td>\n",
       "      <td>0.188720</td>\n",
       "    </tr>\n",
       "    <tr>\n",
       "      <th>Mfg_Month</th>\n",
       "      <td>0.043742</td>\n",
       "      <td>-0.018138</td>\n",
       "      <td>-0.123255</td>\n",
       "      <td>1.000000</td>\n",
       "      <td>-0.057416</td>\n",
       "      <td>-0.020630</td>\n",
       "      <td>-0.039312</td>\n",
       "      <td>0.030266</td>\n",
       "      <td>0.009146</td>\n",
       "      <td>0.037387</td>\n",
       "      <td>...</td>\n",
       "      <td>0.010055</td>\n",
       "      <td>0.025185</td>\n",
       "      <td>-0.055495</td>\n",
       "      <td>0.031601</td>\n",
       "      <td>-0.033504</td>\n",
       "      <td>0.052789</td>\n",
       "      <td>0.023245</td>\n",
       "      <td>0.023506</td>\n",
       "      <td>0.032576</td>\n",
       "      <td>-0.042170</td>\n",
       "    </tr>\n",
       "    <tr>\n",
       "      <th>Mfg_Year</th>\n",
       "      <td>-0.919523</td>\n",
       "      <td>0.885159</td>\n",
       "      <td>-0.983661</td>\n",
       "      <td>-0.057416</td>\n",
       "      <td>1.000000</td>\n",
       "      <td>-0.504974</td>\n",
       "      <td>0.164697</td>\n",
       "      <td>0.103310</td>\n",
       "      <td>-0.033567</td>\n",
       "      <td>0.091892</td>\n",
       "      <td>...</td>\n",
       "      <td>0.279490</td>\n",
       "      <td>0.280996</td>\n",
       "      <td>0.079676</td>\n",
       "      <td>-0.019607</td>\n",
       "      <td>0.133737</td>\n",
       "      <td>0.102080</td>\n",
       "      <td>0.113237</td>\n",
       "      <td>0.036022</td>\n",
       "      <td>-0.018844</td>\n",
       "      <td>-0.182206</td>\n",
       "    </tr>\n",
       "    <tr>\n",
       "      <th>KM</th>\n",
       "      <td>0.273298</td>\n",
       "      <td>-0.569960</td>\n",
       "      <td>0.505672</td>\n",
       "      <td>-0.020630</td>\n",
       "      <td>-0.504974</td>\n",
       "      <td>1.000000</td>\n",
       "      <td>-0.333538</td>\n",
       "      <td>-0.080503</td>\n",
       "      <td>-0.081854</td>\n",
       "      <td>0.102683</td>\n",
       "      <td>...</td>\n",
       "      <td>-0.125177</td>\n",
       "      <td>-0.156242</td>\n",
       "      <td>0.007397</td>\n",
       "      <td>0.013661</td>\n",
       "      <td>-0.074327</td>\n",
       "      <td>-0.044784</td>\n",
       "      <td>-0.045658</td>\n",
       "      <td>-0.013599</td>\n",
       "      <td>0.015770</td>\n",
       "      <td>0.084153</td>\n",
       "    </tr>\n",
       "    <tr>\n",
       "      <th>HP</th>\n",
       "      <td>-0.109375</td>\n",
       "      <td>0.314990</td>\n",
       "      <td>-0.156622</td>\n",
       "      <td>-0.039312</td>\n",
       "      <td>0.164697</td>\n",
       "      <td>-0.333538</td>\n",
       "      <td>1.000000</td>\n",
       "      <td>0.058712</td>\n",
       "      <td>0.013144</td>\n",
       "      <td>0.035856</td>\n",
       "      <td>...</td>\n",
       "      <td>0.250122</td>\n",
       "      <td>0.265593</td>\n",
       "      <td>0.048850</td>\n",
       "      <td>0.020998</td>\n",
       "      <td>0.210571</td>\n",
       "      <td>-0.006027</td>\n",
       "      <td>0.010908</td>\n",
       "      <td>0.206784</td>\n",
       "      <td>0.019919</td>\n",
       "      <td>0.068271</td>\n",
       "    </tr>\n",
       "    <tr>\n",
       "      <th>Met_Color</th>\n",
       "      <td>-0.079713</td>\n",
       "      <td>0.108905</td>\n",
       "      <td>-0.108150</td>\n",
       "      <td>0.030266</td>\n",
       "      <td>0.103310</td>\n",
       "      <td>-0.080503</td>\n",
       "      <td>0.058712</td>\n",
       "      <td>1.000000</td>\n",
       "      <td>-0.019335</td>\n",
       "      <td>0.031812</td>\n",
       "      <td>...</td>\n",
       "      <td>0.153307</td>\n",
       "      <td>0.145147</td>\n",
       "      <td>0.086544</td>\n",
       "      <td>0.072756</td>\n",
       "      <td>0.023821</td>\n",
       "      <td>0.003779</td>\n",
       "      <td>0.037741</td>\n",
       "      <td>0.053829</td>\n",
       "      <td>0.071530</td>\n",
       "      <td>0.148536</td>\n",
       "    </tr>\n",
       "    <tr>\n",
       "      <th>Automatic</th>\n",
       "      <td>0.066265</td>\n",
       "      <td>0.033081</td>\n",
       "      <td>0.031717</td>\n",
       "      <td>0.009146</td>\n",
       "      <td>-0.033567</td>\n",
       "      <td>-0.081854</td>\n",
       "      <td>0.013144</td>\n",
       "      <td>-0.019335</td>\n",
       "      <td>1.000000</td>\n",
       "      <td>0.066740</td>\n",
       "      <td>...</td>\n",
       "      <td>-0.002502</td>\n",
       "      <td>-0.005864</td>\n",
       "      <td>-0.004469</td>\n",
       "      <td>-0.014600</td>\n",
       "      <td>0.003077</td>\n",
       "      <td>0.013175</td>\n",
       "      <td>-0.018876</td>\n",
       "      <td>-0.078095</td>\n",
       "      <td>-0.014150</td>\n",
       "      <td>0.018786</td>\n",
       "    </tr>\n",
       "    <tr>\n",
       "      <th>cc</th>\n",
       "      <td>-0.117704</td>\n",
       "      <td>0.126389</td>\n",
       "      <td>-0.098084</td>\n",
       "      <td>0.037387</td>\n",
       "      <td>0.091892</td>\n",
       "      <td>0.102683</td>\n",
       "      <td>0.035856</td>\n",
       "      <td>0.031812</td>\n",
       "      <td>0.066740</td>\n",
       "      <td>1.000000</td>\n",
       "      <td>...</td>\n",
       "      <td>0.072634</td>\n",
       "      <td>0.055299</td>\n",
       "      <td>0.032933</td>\n",
       "      <td>-0.000361</td>\n",
       "      <td>0.017326</td>\n",
       "      <td>-0.035195</td>\n",
       "      <td>-0.055711</td>\n",
       "      <td>0.003236</td>\n",
       "      <td>-0.000470</td>\n",
       "      <td>0.002725</td>\n",
       "    </tr>\n",
       "    <tr>\n",
       "      <th>Doors</th>\n",
       "      <td>-0.130207</td>\n",
       "      <td>0.185326</td>\n",
       "      <td>-0.148359</td>\n",
       "      <td>-0.012069</td>\n",
       "      <td>0.151442</td>\n",
       "      <td>-0.036197</td>\n",
       "      <td>0.092424</td>\n",
       "      <td>0.085243</td>\n",
       "      <td>-0.027654</td>\n",
       "      <td>0.079903</td>\n",
       "      <td>...</td>\n",
       "      <td>0.132092</td>\n",
       "      <td>0.107626</td>\n",
       "      <td>0.059792</td>\n",
       "      <td>-0.008318</td>\n",
       "      <td>0.064705</td>\n",
       "      <td>-0.129881</td>\n",
       "      <td>-0.022542</td>\n",
       "      <td>-0.039555</td>\n",
       "      <td>-0.008265</td>\n",
       "      <td>0.102292</td>\n",
       "    </tr>\n",
       "    <tr>\n",
       "      <th>Cylinders</th>\n",
       "      <td>NaN</td>\n",
       "      <td>NaN</td>\n",
       "      <td>NaN</td>\n",
       "      <td>NaN</td>\n",
       "      <td>NaN</td>\n",
       "      <td>NaN</td>\n",
       "      <td>NaN</td>\n",
       "      <td>NaN</td>\n",
       "      <td>NaN</td>\n",
       "      <td>NaN</td>\n",
       "      <td>...</td>\n",
       "      <td>NaN</td>\n",
       "      <td>NaN</td>\n",
       "      <td>NaN</td>\n",
       "      <td>NaN</td>\n",
       "      <td>NaN</td>\n",
       "      <td>NaN</td>\n",
       "      <td>NaN</td>\n",
       "      <td>NaN</td>\n",
       "      <td>NaN</td>\n",
       "      <td>NaN</td>\n",
       "    </tr>\n",
       "    <tr>\n",
       "      <th>Gears</th>\n",
       "      <td>-0.043343</td>\n",
       "      <td>0.063104</td>\n",
       "      <td>-0.005364</td>\n",
       "      <td>-0.013063</td>\n",
       "      <td>0.007766</td>\n",
       "      <td>0.015023</td>\n",
       "      <td>0.209477</td>\n",
       "      <td>0.018601</td>\n",
       "      <td>-0.098555</td>\n",
       "      <td>0.014629</td>\n",
       "      <td>...</td>\n",
       "      <td>0.126964</td>\n",
       "      <td>0.131423</td>\n",
       "      <td>0.021200</td>\n",
       "      <td>0.015090</td>\n",
       "      <td>0.238789</td>\n",
       "      <td>0.174117</td>\n",
       "      <td>0.076705</td>\n",
       "      <td>0.295077</td>\n",
       "      <td>0.015397</td>\n",
       "      <td>-0.029357</td>\n",
       "    </tr>\n",
       "    <tr>\n",
       "      <th>Quarterly_Tax</th>\n",
       "      <td>-0.240821</td>\n",
       "      <td>0.219197</td>\n",
       "      <td>-0.198431</td>\n",
       "      <td>0.031373</td>\n",
       "      <td>0.193934</td>\n",
       "      <td>0.278165</td>\n",
       "      <td>-0.298432</td>\n",
       "      <td>0.011326</td>\n",
       "      <td>-0.055371</td>\n",
       "      <td>0.306996</td>\n",
       "      <td>...</td>\n",
       "      <td>0.032084</td>\n",
       "      <td>0.003827</td>\n",
       "      <td>0.047956</td>\n",
       "      <td>-0.031816</td>\n",
       "      <td>0.024024</td>\n",
       "      <td>0.067525</td>\n",
       "      <td>0.198419</td>\n",
       "      <td>-0.011965</td>\n",
       "      <td>-0.031009</td>\n",
       "      <td>-0.004988</td>\n",
       "    </tr>\n",
       "    <tr>\n",
       "      <th>Weight</th>\n",
       "      <td>-0.414500</td>\n",
       "      <td>0.581198</td>\n",
       "      <td>-0.470253</td>\n",
       "      <td>-0.002167</td>\n",
       "      <td>0.473478</td>\n",
       "      <td>-0.028598</td>\n",
       "      <td>0.089614</td>\n",
       "      <td>0.057929</td>\n",
       "      <td>0.057249</td>\n",
       "      <td>0.335637</td>\n",
       "      <td>...</td>\n",
       "      <td>0.234644</td>\n",
       "      <td>0.213356</td>\n",
       "      <td>0.047849</td>\n",
       "      <td>-0.038407</td>\n",
       "      <td>0.135236</td>\n",
       "      <td>0.125974</td>\n",
       "      <td>0.036446</td>\n",
       "      <td>0.053847</td>\n",
       "      <td>-0.037265</td>\n",
       "      <td>-0.074932</td>\n",
       "    </tr>\n",
       "    <tr>\n",
       "      <th>Mfr_Guarantee</th>\n",
       "      <td>-0.162006</td>\n",
       "      <td>0.197802</td>\n",
       "      <td>-0.164658</td>\n",
       "      <td>-0.005771</td>\n",
       "      <td>0.166697</td>\n",
       "      <td>-0.212851</td>\n",
       "      <td>0.140026</td>\n",
       "      <td>0.154850</td>\n",
       "      <td>0.026194</td>\n",
       "      <td>-0.057407</td>\n",
       "      <td>...</td>\n",
       "      <td>0.039915</td>\n",
       "      <td>0.041551</td>\n",
       "      <td>0.029771</td>\n",
       "      <td>-0.052058</td>\n",
       "      <td>0.083958</td>\n",
       "      <td>0.054129</td>\n",
       "      <td>0.256249</td>\n",
       "      <td>0.026728</td>\n",
       "      <td>-0.054532</td>\n",
       "      <td>-0.023328</td>\n",
       "    </tr>\n",
       "    <tr>\n",
       "      <th>BOVAG_Guarantee</th>\n",
       "      <td>-0.015065</td>\n",
       "      <td>0.028133</td>\n",
       "      <td>0.006865</td>\n",
       "      <td>-0.003863</td>\n",
       "      <td>-0.006206</td>\n",
       "      <td>0.001438</td>\n",
       "      <td>0.022701</td>\n",
       "      <td>0.010783</td>\n",
       "      <td>0.023393</td>\n",
       "      <td>-0.081725</td>\n",
       "      <td>...</td>\n",
       "      <td>-0.023008</td>\n",
       "      <td>-0.012406</td>\n",
       "      <td>0.164392</td>\n",
       "      <td>-0.039075</td>\n",
       "      <td>0.117472</td>\n",
       "      <td>0.173978</td>\n",
       "      <td>0.457468</td>\n",
       "      <td>0.060434</td>\n",
       "      <td>-0.039827</td>\n",
       "      <td>-0.006718</td>\n",
       "    </tr>\n",
       "    <tr>\n",
       "      <th>Guarantee_Period</th>\n",
       "      <td>-0.086256</td>\n",
       "      <td>0.146627</td>\n",
       "      <td>-0.152563</td>\n",
       "      <td>0.029010</td>\n",
       "      <td>0.148218</td>\n",
       "      <td>-0.138942</td>\n",
       "      <td>0.076163</td>\n",
       "      <td>0.009295</td>\n",
       "      <td>-0.002256</td>\n",
       "      <td>-0.017683</td>\n",
       "      <td>...</td>\n",
       "      <td>0.058934</td>\n",
       "      <td>0.040534</td>\n",
       "      <td>-0.118974</td>\n",
       "      <td>0.198886</td>\n",
       "      <td>-0.118021</td>\n",
       "      <td>-0.172874</td>\n",
       "      <td>-0.484427</td>\n",
       "      <td>-0.044003</td>\n",
       "      <td>0.193910</td>\n",
       "      <td>0.008590</td>\n",
       "    </tr>\n",
       "    <tr>\n",
       "      <th>ABS</th>\n",
       "      <td>-0.461437</td>\n",
       "      <td>0.306138</td>\n",
       "      <td>-0.412887</td>\n",
       "      <td>0.072532</td>\n",
       "      <td>0.402215</td>\n",
       "      <td>-0.177203</td>\n",
       "      <td>0.057832</td>\n",
       "      <td>0.022298</td>\n",
       "      <td>-0.016128</td>\n",
       "      <td>0.037806</td>\n",
       "      <td>...</td>\n",
       "      <td>0.099454</td>\n",
       "      <td>0.099465</td>\n",
       "      <td>0.254626</td>\n",
       "      <td>-0.054670</td>\n",
       "      <td>0.179433</td>\n",
       "      <td>0.200596</td>\n",
       "      <td>0.256659</td>\n",
       "      <td>0.079152</td>\n",
       "      <td>-0.055724</td>\n",
       "      <td>-0.065976</td>\n",
       "    </tr>\n",
       "    <tr>\n",
       "      <th>Airbag_1</th>\n",
       "      <td>-0.123465</td>\n",
       "      <td>0.093588</td>\n",
       "      <td>-0.105406</td>\n",
       "      <td>0.003756</td>\n",
       "      <td>0.105359</td>\n",
       "      <td>-0.018012</td>\n",
       "      <td>0.025137</td>\n",
       "      <td>0.100055</td>\n",
       "      <td>-0.011895</td>\n",
       "      <td>0.022678</td>\n",
       "      <td>...</td>\n",
       "      <td>0.120276</td>\n",
       "      <td>0.121641</td>\n",
       "      <td>0.561770</td>\n",
       "      <td>-0.010035</td>\n",
       "      <td>0.092618</td>\n",
       "      <td>0.113671</td>\n",
       "      <td>0.307947</td>\n",
       "      <td>0.057345</td>\n",
       "      <td>-0.022117</td>\n",
       "      <td>0.052312</td>\n",
       "    </tr>\n",
       "    <tr>\n",
       "      <th>Airbag_2</th>\n",
       "      <td>-0.358316</td>\n",
       "      <td>0.248974</td>\n",
       "      <td>-0.329017</td>\n",
       "      <td>0.076749</td>\n",
       "      <td>0.317075</td>\n",
       "      <td>-0.139275</td>\n",
       "      <td>0.017644</td>\n",
       "      <td>0.038416</td>\n",
       "      <td>0.001171</td>\n",
       "      <td>0.024738</td>\n",
       "      <td>...</td>\n",
       "      <td>0.024819</td>\n",
       "      <td>0.049129</td>\n",
       "      <td>0.212187</td>\n",
       "      <td>-0.223663</td>\n",
       "      <td>0.228843</td>\n",
       "      <td>0.300274</td>\n",
       "      <td>0.589987</td>\n",
       "      <td>0.075128</td>\n",
       "      <td>-0.220917</td>\n",
       "      <td>-0.063956</td>\n",
       "    </tr>\n",
       "    <tr>\n",
       "      <th>Airco</th>\n",
       "      <td>-0.386207</td>\n",
       "      <td>0.429259</td>\n",
       "      <td>-0.403600</td>\n",
       "      <td>0.057088</td>\n",
       "      <td>0.395674</td>\n",
       "      <td>-0.133057</td>\n",
       "      <td>0.241134</td>\n",
       "      <td>0.114190</td>\n",
       "      <td>-0.028353</td>\n",
       "      <td>0.119888</td>\n",
       "      <td>...</td>\n",
       "      <td>0.540588</td>\n",
       "      <td>0.543982</td>\n",
       "      <td>0.096893</td>\n",
       "      <td>-0.030571</td>\n",
       "      <td>0.466751</td>\n",
       "      <td>0.002730</td>\n",
       "      <td>0.105149</td>\n",
       "      <td>0.233166</td>\n",
       "      <td>-0.036524</td>\n",
       "      <td>-0.024362</td>\n",
       "    </tr>\n",
       "    <tr>\n",
       "      <th>Automatic_airco</th>\n",
       "      <td>-0.327468</td>\n",
       "      <td>0.588262</td>\n",
       "      <td>-0.426259</td>\n",
       "      <td>-0.049017</td>\n",
       "      <td>0.437718</td>\n",
       "      <td>-0.258221</td>\n",
       "      <td>0.244957</td>\n",
       "      <td>0.027977</td>\n",
       "      <td>0.059057</td>\n",
       "      <td>0.162669</td>\n",
       "      <td>...</td>\n",
       "      <td>0.195790</td>\n",
       "      <td>0.203687</td>\n",
       "      <td>0.036912</td>\n",
       "      <td>-0.092647</td>\n",
       "      <td>0.312141</td>\n",
       "      <td>0.215287</td>\n",
       "      <td>0.018756</td>\n",
       "      <td>0.100363</td>\n",
       "      <td>-0.092348</td>\n",
       "      <td>-0.117967</td>\n",
       "    </tr>\n",
       "    <tr>\n",
       "      <th>Boardcomputer</th>\n",
       "      <td>-0.695207</td>\n",
       "      <td>0.601292</td>\n",
       "      <td>-0.719449</td>\n",
       "      <td>0.017715</td>\n",
       "      <td>0.720567</td>\n",
       "      <td>-0.353862</td>\n",
       "      <td>0.129715</td>\n",
       "      <td>0.089886</td>\n",
       "      <td>-0.037069</td>\n",
       "      <td>0.009312</td>\n",
       "      <td>...</td>\n",
       "      <td>0.203126</td>\n",
       "      <td>0.213327</td>\n",
       "      <td>0.087207</td>\n",
       "      <td>-0.129094</td>\n",
       "      <td>0.147900</td>\n",
       "      <td>0.036802</td>\n",
       "      <td>0.287615</td>\n",
       "      <td>-0.024999</td>\n",
       "      <td>-0.128073</td>\n",
       "      <td>-0.128001</td>\n",
       "    </tr>\n",
       "    <tr>\n",
       "      <th>CD_Player</th>\n",
       "      <td>-0.464520</td>\n",
       "      <td>0.481374</td>\n",
       "      <td>-0.510895</td>\n",
       "      <td>-0.016736</td>\n",
       "      <td>0.517008</td>\n",
       "      <td>-0.266826</td>\n",
       "      <td>0.102300</td>\n",
       "      <td>0.198220</td>\n",
       "      <td>-0.010967</td>\n",
       "      <td>0.057787</td>\n",
       "      <td>...</td>\n",
       "      <td>0.194076</td>\n",
       "      <td>0.195386</td>\n",
       "      <td>0.068452</td>\n",
       "      <td>-0.185568</td>\n",
       "      <td>0.124589</td>\n",
       "      <td>0.057920</td>\n",
       "      <td>0.148806</td>\n",
       "      <td>0.044730</td>\n",
       "      <td>-0.189668</td>\n",
       "      <td>-0.079911</td>\n",
       "    </tr>\n",
       "    <tr>\n",
       "      <th>Central_Lock</th>\n",
       "      <td>-0.238940</td>\n",
       "      <td>0.343458</td>\n",
       "      <td>-0.279631</td>\n",
       "      <td>0.010055</td>\n",
       "      <td>0.279490</td>\n",
       "      <td>-0.125177</td>\n",
       "      <td>0.250122</td>\n",
       "      <td>0.153307</td>\n",
       "      <td>-0.002502</td>\n",
       "      <td>0.072634</td>\n",
       "      <td>...</td>\n",
       "      <td>1.000000</td>\n",
       "      <td>0.875552</td>\n",
       "      <td>0.129646</td>\n",
       "      <td>-0.011251</td>\n",
       "      <td>0.487426</td>\n",
       "      <td>-0.003128</td>\n",
       "      <td>0.058449</td>\n",
       "      <td>0.281334</td>\n",
       "      <td>-0.016954</td>\n",
       "      <td>-0.007728</td>\n",
       "    </tr>\n",
       "    <tr>\n",
       "      <th>Powered_Windows</th>\n",
       "      <td>-0.236723</td>\n",
       "      <td>0.356518</td>\n",
       "      <td>-0.283856</td>\n",
       "      <td>0.025185</td>\n",
       "      <td>0.280996</td>\n",
       "      <td>-0.156242</td>\n",
       "      <td>0.265593</td>\n",
       "      <td>0.145147</td>\n",
       "      <td>-0.005864</td>\n",
       "      <td>0.055299</td>\n",
       "      <td>...</td>\n",
       "      <td>0.875552</td>\n",
       "      <td>1.000000</td>\n",
       "      <td>0.123458</td>\n",
       "      <td>-0.035811</td>\n",
       "      <td>0.496697</td>\n",
       "      <td>-0.000650</td>\n",
       "      <td>0.078244</td>\n",
       "      <td>0.291419</td>\n",
       "      <td>-0.037626</td>\n",
       "      <td>-0.013252</td>\n",
       "    </tr>\n",
       "    <tr>\n",
       "      <th>Power_Steering</th>\n",
       "      <td>-0.091587</td>\n",
       "      <td>0.064275</td>\n",
       "      <td>-0.069192</td>\n",
       "      <td>-0.055495</td>\n",
       "      <td>0.079676</td>\n",
       "      <td>0.007397</td>\n",
       "      <td>0.048850</td>\n",
       "      <td>0.086544</td>\n",
       "      <td>-0.004469</td>\n",
       "      <td>0.032933</td>\n",
       "      <td>...</td>\n",
       "      <td>0.129646</td>\n",
       "      <td>0.123458</td>\n",
       "      <td>1.000000</td>\n",
       "      <td>0.009075</td>\n",
       "      <td>0.077985</td>\n",
       "      <td>0.098866</td>\n",
       "      <td>0.265169</td>\n",
       "      <td>0.053217</td>\n",
       "      <td>-0.004584</td>\n",
       "      <td>0.030453</td>\n",
       "    </tr>\n",
       "    <tr>\n",
       "      <th>Radio</th>\n",
       "      <td>-0.010971</td>\n",
       "      <td>-0.041887</td>\n",
       "      <td>0.013791</td>\n",
       "      <td>0.031601</td>\n",
       "      <td>-0.019607</td>\n",
       "      <td>0.013661</td>\n",
       "      <td>0.020998</td>\n",
       "      <td>0.072756</td>\n",
       "      <td>-0.014600</td>\n",
       "      <td>-0.000361</td>\n",
       "      <td>...</td>\n",
       "      <td>-0.011251</td>\n",
       "      <td>-0.035811</td>\n",
       "      <td>0.009075</td>\n",
       "      <td>1.000000</td>\n",
       "      <td>-0.126118</td>\n",
       "      <td>-0.137729</td>\n",
       "      <td>-0.209590</td>\n",
       "      <td>-0.034162</td>\n",
       "      <td>0.991621</td>\n",
       "      <td>0.143652</td>\n",
       "    </tr>\n",
       "    <tr>\n",
       "      <th>Mistlamps</th>\n",
       "      <td>-0.139708</td>\n",
       "      <td>0.222083</td>\n",
       "      <td>-0.126895</td>\n",
       "      <td>-0.033504</td>\n",
       "      <td>0.133737</td>\n",
       "      <td>-0.074327</td>\n",
       "      <td>0.210571</td>\n",
       "      <td>0.023821</td>\n",
       "      <td>0.003077</td>\n",
       "      <td>0.017326</td>\n",
       "      <td>...</td>\n",
       "      <td>0.487426</td>\n",
       "      <td>0.496697</td>\n",
       "      <td>0.077985</td>\n",
       "      <td>-0.126118</td>\n",
       "      <td>1.000000</td>\n",
       "      <td>0.004342</td>\n",
       "      <td>0.245463</td>\n",
       "      <td>0.412545</td>\n",
       "      <td>-0.134245</td>\n",
       "      <td>-0.069479</td>\n",
       "    </tr>\n",
       "    <tr>\n",
       "      <th>Sport_Model</th>\n",
       "      <td>-0.028704</td>\n",
       "      <td>0.164121</td>\n",
       "      <td>-0.110988</td>\n",
       "      <td>0.052789</td>\n",
       "      <td>0.102080</td>\n",
       "      <td>-0.044784</td>\n",
       "      <td>-0.006027</td>\n",
       "      <td>0.003779</td>\n",
       "      <td>0.013175</td>\n",
       "      <td>-0.035195</td>\n",
       "      <td>...</td>\n",
       "      <td>-0.003128</td>\n",
       "      <td>-0.000650</td>\n",
       "      <td>0.098866</td>\n",
       "      <td>-0.137729</td>\n",
       "      <td>0.004342</td>\n",
       "      <td>1.000000</td>\n",
       "      <td>0.357713</td>\n",
       "      <td>0.051810</td>\n",
       "      <td>-0.136708</td>\n",
       "      <td>-0.094147</td>\n",
       "    </tr>\n",
       "    <tr>\n",
       "      <th>Backseat_Divider</th>\n",
       "      <td>-0.136398</td>\n",
       "      <td>0.102569</td>\n",
       "      <td>-0.116751</td>\n",
       "      <td>0.023245</td>\n",
       "      <td>0.113237</td>\n",
       "      <td>-0.045658</td>\n",
       "      <td>0.010908</td>\n",
       "      <td>0.037741</td>\n",
       "      <td>-0.018876</td>\n",
       "      <td>-0.055711</td>\n",
       "      <td>...</td>\n",
       "      <td>0.058449</td>\n",
       "      <td>0.078244</td>\n",
       "      <td>0.265169</td>\n",
       "      <td>-0.209590</td>\n",
       "      <td>0.245463</td>\n",
       "      <td>0.357713</td>\n",
       "      <td>1.000000</td>\n",
       "      <td>0.104862</td>\n",
       "      <td>-0.206390</td>\n",
       "      <td>-0.049176</td>\n",
       "    </tr>\n",
       "    <tr>\n",
       "      <th>Metallic_Rim</th>\n",
       "      <td>-0.022232</td>\n",
       "      <td>0.108564</td>\n",
       "      <td>-0.040045</td>\n",
       "      <td>0.023506</td>\n",
       "      <td>0.036022</td>\n",
       "      <td>-0.013599</td>\n",
       "      <td>0.206784</td>\n",
       "      <td>0.053829</td>\n",
       "      <td>-0.078095</td>\n",
       "      <td>0.003236</td>\n",
       "      <td>...</td>\n",
       "      <td>0.281334</td>\n",
       "      <td>0.291419</td>\n",
       "      <td>0.053217</td>\n",
       "      <td>-0.034162</td>\n",
       "      <td>0.412545</td>\n",
       "      <td>0.051810</td>\n",
       "      <td>0.104862</td>\n",
       "      <td>1.000000</td>\n",
       "      <td>-0.033228</td>\n",
       "      <td>-0.037331</td>\n",
       "    </tr>\n",
       "    <tr>\n",
       "      <th>Radio_cassette</th>\n",
       "      <td>-0.011611</td>\n",
       "      <td>-0.043179</td>\n",
       "      <td>0.012857</td>\n",
       "      <td>0.032576</td>\n",
       "      <td>-0.018844</td>\n",
       "      <td>0.015770</td>\n",
       "      <td>0.019919</td>\n",
       "      <td>0.071530</td>\n",
       "      <td>-0.014150</td>\n",
       "      <td>-0.000470</td>\n",
       "      <td>...</td>\n",
       "      <td>-0.016954</td>\n",
       "      <td>-0.037626</td>\n",
       "      <td>-0.004584</td>\n",
       "      <td>0.991621</td>\n",
       "      <td>-0.134245</td>\n",
       "      <td>-0.136708</td>\n",
       "      <td>-0.206390</td>\n",
       "      <td>-0.033228</td>\n",
       "      <td>1.000000</td>\n",
       "      <td>0.140753</td>\n",
       "    </tr>\n",
       "    <tr>\n",
       "      <th>Tow_Bar</th>\n",
       "      <td>0.159171</td>\n",
       "      <td>-0.172369</td>\n",
       "      <td>0.188720</td>\n",
       "      <td>-0.042170</td>\n",
       "      <td>-0.182206</td>\n",
       "      <td>0.084153</td>\n",
       "      <td>0.068271</td>\n",
       "      <td>0.148536</td>\n",
       "      <td>0.018786</td>\n",
       "      <td>0.002725</td>\n",
       "      <td>...</td>\n",
       "      <td>-0.007728</td>\n",
       "      <td>-0.013252</td>\n",
       "      <td>0.030453</td>\n",
       "      <td>0.143652</td>\n",
       "      <td>-0.069479</td>\n",
       "      <td>-0.094147</td>\n",
       "      <td>-0.049176</td>\n",
       "      <td>-0.037331</td>\n",
       "      <td>0.140753</td>\n",
       "      <td>1.000000</td>\n",
       "    </tr>\n",
       "  </tbody>\n",
       "</table>\n",
       "<p>35 rows × 35 columns</p>\n",
       "</div>"
      ],
      "text/plain": [
       "                        Id     Price  Age_08_04  Mfg_Month  Mfg_Year  \\\n",
       "Id                1.000000 -0.738250   0.906132   0.043742 -0.919523   \n",
       "Price            -0.738250  1.000000  -0.876590  -0.018138  0.885159   \n",
       "Age_08_04         0.906132 -0.876590   1.000000  -0.123255 -0.983661   \n",
       "Mfg_Month         0.043742 -0.018138  -0.123255   1.000000 -0.057416   \n",
       "Mfg_Year         -0.919523  0.885159  -0.983661  -0.057416  1.000000   \n",
       "KM                0.273298 -0.569960   0.505672  -0.020630 -0.504974   \n",
       "HP               -0.109375  0.314990  -0.156622  -0.039312  0.164697   \n",
       "Met_Color        -0.079713  0.108905  -0.108150   0.030266  0.103310   \n",
       "Automatic         0.066265  0.033081   0.031717   0.009146 -0.033567   \n",
       "cc               -0.117704  0.126389  -0.098084   0.037387  0.091892   \n",
       "Doors            -0.130207  0.185326  -0.148359  -0.012069  0.151442   \n",
       "Cylinders              NaN       NaN        NaN        NaN       NaN   \n",
       "Gears            -0.043343  0.063104  -0.005364  -0.013063  0.007766   \n",
       "Quarterly_Tax    -0.240821  0.219197  -0.198431   0.031373  0.193934   \n",
       "Weight           -0.414500  0.581198  -0.470253  -0.002167  0.473478   \n",
       "Mfr_Guarantee    -0.162006  0.197802  -0.164658  -0.005771  0.166697   \n",
       "BOVAG_Guarantee  -0.015065  0.028133   0.006865  -0.003863 -0.006206   \n",
       "Guarantee_Period -0.086256  0.146627  -0.152563   0.029010  0.148218   \n",
       "ABS              -0.461437  0.306138  -0.412887   0.072532  0.402215   \n",
       "Airbag_1         -0.123465  0.093588  -0.105406   0.003756  0.105359   \n",
       "Airbag_2         -0.358316  0.248974  -0.329017   0.076749  0.317075   \n",
       "Airco            -0.386207  0.429259  -0.403600   0.057088  0.395674   \n",
       "Automatic_airco  -0.327468  0.588262  -0.426259  -0.049017  0.437718   \n",
       "Boardcomputer    -0.695207  0.601292  -0.719449   0.017715  0.720567   \n",
       "CD_Player        -0.464520  0.481374  -0.510895  -0.016736  0.517008   \n",
       "Central_Lock     -0.238940  0.343458  -0.279631   0.010055  0.279490   \n",
       "Powered_Windows  -0.236723  0.356518  -0.283856   0.025185  0.280996   \n",
       "Power_Steering   -0.091587  0.064275  -0.069192  -0.055495  0.079676   \n",
       "Radio            -0.010971 -0.041887   0.013791   0.031601 -0.019607   \n",
       "Mistlamps        -0.139708  0.222083  -0.126895  -0.033504  0.133737   \n",
       "Sport_Model      -0.028704  0.164121  -0.110988   0.052789  0.102080   \n",
       "Backseat_Divider -0.136398  0.102569  -0.116751   0.023245  0.113237   \n",
       "Metallic_Rim     -0.022232  0.108564  -0.040045   0.023506  0.036022   \n",
       "Radio_cassette   -0.011611 -0.043179   0.012857   0.032576 -0.018844   \n",
       "Tow_Bar           0.159171 -0.172369   0.188720  -0.042170 -0.182206   \n",
       "\n",
       "                        KM        HP  Met_Color  Automatic        cc  ...  \\\n",
       "Id                0.273298 -0.109375  -0.079713   0.066265 -0.117704  ...   \n",
       "Price            -0.569960  0.314990   0.108905   0.033081  0.126389  ...   \n",
       "Age_08_04         0.505672 -0.156622  -0.108150   0.031717 -0.098084  ...   \n",
       "Mfg_Month        -0.020630 -0.039312   0.030266   0.009146  0.037387  ...   \n",
       "Mfg_Year         -0.504974  0.164697   0.103310  -0.033567  0.091892  ...   \n",
       "KM                1.000000 -0.333538  -0.080503  -0.081854  0.102683  ...   \n",
       "HP               -0.333538  1.000000   0.058712   0.013144  0.035856  ...   \n",
       "Met_Color        -0.080503  0.058712   1.000000  -0.019335  0.031812  ...   \n",
       "Automatic        -0.081854  0.013144  -0.019335   1.000000  0.066740  ...   \n",
       "cc                0.102683  0.035856   0.031812   0.066740  1.000000  ...   \n",
       "Doors            -0.036197  0.092424   0.085243  -0.027654  0.079903  ...   \n",
       "Cylinders              NaN       NaN        NaN        NaN       NaN  ...   \n",
       "Gears             0.015023  0.209477   0.018601  -0.098555  0.014629  ...   \n",
       "Quarterly_Tax     0.278165 -0.298432   0.011326  -0.055371  0.306996  ...   \n",
       "Weight           -0.028598  0.089614   0.057929   0.057249  0.335637  ...   \n",
       "Mfr_Guarantee    -0.212851  0.140026   0.154850   0.026194 -0.057407  ...   \n",
       "BOVAG_Guarantee   0.001438  0.022701   0.010783   0.023393 -0.081725  ...   \n",
       "Guarantee_Period -0.138942  0.076163   0.009295  -0.002256 -0.017683  ...   \n",
       "ABS              -0.177203  0.057832   0.022298  -0.016128  0.037806  ...   \n",
       "Airbag_1         -0.018012  0.025137   0.100055  -0.011895  0.022678  ...   \n",
       "Airbag_2         -0.139275  0.017644   0.038416   0.001171  0.024738  ...   \n",
       "Airco            -0.133057  0.241134   0.114190  -0.028353  0.119888  ...   \n",
       "Automatic_airco  -0.258221  0.244957   0.027977   0.059057  0.162669  ...   \n",
       "Boardcomputer    -0.353862  0.129715   0.089886  -0.037069  0.009312  ...   \n",
       "CD_Player        -0.266826  0.102300   0.198220  -0.010967  0.057787  ...   \n",
       "Central_Lock     -0.125177  0.250122   0.153307  -0.002502  0.072634  ...   \n",
       "Powered_Windows  -0.156242  0.265593   0.145147  -0.005864  0.055299  ...   \n",
       "Power_Steering    0.007397  0.048850   0.086544  -0.004469  0.032933  ...   \n",
       "Radio             0.013661  0.020998   0.072756  -0.014600 -0.000361  ...   \n",
       "Mistlamps        -0.074327  0.210571   0.023821   0.003077  0.017326  ...   \n",
       "Sport_Model      -0.044784 -0.006027   0.003779   0.013175 -0.035195  ...   \n",
       "Backseat_Divider -0.045658  0.010908   0.037741  -0.018876 -0.055711  ...   \n",
       "Metallic_Rim     -0.013599  0.206784   0.053829  -0.078095  0.003236  ...   \n",
       "Radio_cassette    0.015770  0.019919   0.071530  -0.014150 -0.000470  ...   \n",
       "Tow_Bar           0.084153  0.068271   0.148536   0.018786  0.002725  ...   \n",
       "\n",
       "                  Central_Lock  Powered_Windows  Power_Steering     Radio  \\\n",
       "Id                   -0.238940        -0.236723       -0.091587 -0.010971   \n",
       "Price                 0.343458         0.356518        0.064275 -0.041887   \n",
       "Age_08_04            -0.279631        -0.283856       -0.069192  0.013791   \n",
       "Mfg_Month             0.010055         0.025185       -0.055495  0.031601   \n",
       "Mfg_Year              0.279490         0.280996        0.079676 -0.019607   \n",
       "KM                   -0.125177        -0.156242        0.007397  0.013661   \n",
       "HP                    0.250122         0.265593        0.048850  0.020998   \n",
       "Met_Color             0.153307         0.145147        0.086544  0.072756   \n",
       "Automatic            -0.002502        -0.005864       -0.004469 -0.014600   \n",
       "cc                    0.072634         0.055299        0.032933 -0.000361   \n",
       "Doors                 0.132092         0.107626        0.059792 -0.008318   \n",
       "Cylinders                  NaN              NaN             NaN       NaN   \n",
       "Gears                 0.126964         0.131423        0.021200  0.015090   \n",
       "Quarterly_Tax         0.032084         0.003827        0.047956 -0.031816   \n",
       "Weight                0.234644         0.213356        0.047849 -0.038407   \n",
       "Mfr_Guarantee         0.039915         0.041551        0.029771 -0.052058   \n",
       "BOVAG_Guarantee      -0.023008        -0.012406        0.164392 -0.039075   \n",
       "Guarantee_Period      0.058934         0.040534       -0.118974  0.198886   \n",
       "ABS                   0.099454         0.099465        0.254626 -0.054670   \n",
       "Airbag_1              0.120276         0.121641        0.561770 -0.010035   \n",
       "Airbag_2              0.024819         0.049129        0.212187 -0.223663   \n",
       "Airco                 0.540588         0.543982        0.096893 -0.030571   \n",
       "Automatic_airco       0.195790         0.203687        0.036912 -0.092647   \n",
       "Boardcomputer         0.203126         0.213327        0.087207 -0.129094   \n",
       "CD_Player             0.194076         0.195386        0.068452 -0.185568   \n",
       "Central_Lock          1.000000         0.875552        0.129646 -0.011251   \n",
       "Powered_Windows       0.875552         1.000000        0.123458 -0.035811   \n",
       "Power_Steering        0.129646         0.123458        1.000000  0.009075   \n",
       "Radio                -0.011251        -0.035811        0.009075  1.000000   \n",
       "Mistlamps             0.487426         0.496697        0.077985 -0.126118   \n",
       "Sport_Model          -0.003128        -0.000650        0.098866 -0.137729   \n",
       "Backseat_Divider      0.058449         0.078244        0.265169 -0.209590   \n",
       "Metallic_Rim          0.281334         0.291419        0.053217 -0.034162   \n",
       "Radio_cassette       -0.016954        -0.037626       -0.004584  0.991621   \n",
       "Tow_Bar              -0.007728        -0.013252        0.030453  0.143652   \n",
       "\n",
       "                  Mistlamps  Sport_Model  Backseat_Divider  Metallic_Rim  \\\n",
       "Id                -0.139708    -0.028704         -0.136398     -0.022232   \n",
       "Price              0.222083     0.164121          0.102569      0.108564   \n",
       "Age_08_04         -0.126895    -0.110988         -0.116751     -0.040045   \n",
       "Mfg_Month         -0.033504     0.052789          0.023245      0.023506   \n",
       "Mfg_Year           0.133737     0.102080          0.113237      0.036022   \n",
       "KM                -0.074327    -0.044784         -0.045658     -0.013599   \n",
       "HP                 0.210571    -0.006027          0.010908      0.206784   \n",
       "Met_Color          0.023821     0.003779          0.037741      0.053829   \n",
       "Automatic          0.003077     0.013175         -0.018876     -0.078095   \n",
       "cc                 0.017326    -0.035195         -0.055711      0.003236   \n",
       "Doors              0.064705    -0.129881         -0.022542     -0.039555   \n",
       "Cylinders               NaN          NaN               NaN           NaN   \n",
       "Gears              0.238789     0.174117          0.076705      0.295077   \n",
       "Quarterly_Tax      0.024024     0.067525          0.198419     -0.011965   \n",
       "Weight             0.135236     0.125974          0.036446      0.053847   \n",
       "Mfr_Guarantee      0.083958     0.054129          0.256249      0.026728   \n",
       "BOVAG_Guarantee    0.117472     0.173978          0.457468      0.060434   \n",
       "Guarantee_Period  -0.118021    -0.172874         -0.484427     -0.044003   \n",
       "ABS                0.179433     0.200596          0.256659      0.079152   \n",
       "Airbag_1           0.092618     0.113671          0.307947      0.057345   \n",
       "Airbag_2           0.228843     0.300274          0.589987      0.075128   \n",
       "Airco              0.466751     0.002730          0.105149      0.233166   \n",
       "Automatic_airco    0.312141     0.215287          0.018756      0.100363   \n",
       "Boardcomputer      0.147900     0.036802          0.287615     -0.024999   \n",
       "CD_Player          0.124589     0.057920          0.148806      0.044730   \n",
       "Central_Lock       0.487426    -0.003128          0.058449      0.281334   \n",
       "Powered_Windows    0.496697    -0.000650          0.078244      0.291419   \n",
       "Power_Steering     0.077985     0.098866          0.265169      0.053217   \n",
       "Radio             -0.126118    -0.137729         -0.209590     -0.034162   \n",
       "Mistlamps          1.000000     0.004342          0.245463      0.412545   \n",
       "Sport_Model        0.004342     1.000000          0.357713      0.051810   \n",
       "Backseat_Divider   0.245463     0.357713          1.000000      0.104862   \n",
       "Metallic_Rim       0.412545     0.051810          0.104862      1.000000   \n",
       "Radio_cassette    -0.134245    -0.136708         -0.206390     -0.033228   \n",
       "Tow_Bar           -0.069479    -0.094147         -0.049176     -0.037331   \n",
       "\n",
       "                  Radio_cassette   Tow_Bar  \n",
       "Id                     -0.011611  0.159171  \n",
       "Price                  -0.043179 -0.172369  \n",
       "Age_08_04               0.012857  0.188720  \n",
       "Mfg_Month               0.032576 -0.042170  \n",
       "Mfg_Year               -0.018844 -0.182206  \n",
       "KM                      0.015770  0.084153  \n",
       "HP                      0.019919  0.068271  \n",
       "Met_Color               0.071530  0.148536  \n",
       "Automatic              -0.014150  0.018786  \n",
       "cc                     -0.000470  0.002725  \n",
       "Doors                  -0.008265  0.102292  \n",
       "Cylinders                    NaN       NaN  \n",
       "Gears                   0.015397 -0.029357  \n",
       "Quarterly_Tax          -0.031009 -0.004988  \n",
       "Weight                 -0.037265 -0.074932  \n",
       "Mfr_Guarantee          -0.054532 -0.023328  \n",
       "BOVAG_Guarantee        -0.039827 -0.006718  \n",
       "Guarantee_Period        0.193910  0.008590  \n",
       "ABS                    -0.055724 -0.065976  \n",
       "Airbag_1               -0.022117  0.052312  \n",
       "Airbag_2               -0.220917 -0.063956  \n",
       "Airco                  -0.036524 -0.024362  \n",
       "Automatic_airco        -0.092348 -0.117967  \n",
       "Boardcomputer          -0.128073 -0.128001  \n",
       "CD_Player              -0.189668 -0.079911  \n",
       "Central_Lock           -0.016954 -0.007728  \n",
       "Powered_Windows        -0.037626 -0.013252  \n",
       "Power_Steering         -0.004584  0.030453  \n",
       "Radio                   0.991621  0.143652  \n",
       "Mistlamps              -0.134245 -0.069479  \n",
       "Sport_Model            -0.136708 -0.094147  \n",
       "Backseat_Divider       -0.206390 -0.049176  \n",
       "Metallic_Rim           -0.033228 -0.037331  \n",
       "Radio_cassette          1.000000  0.140753  \n",
       "Tow_Bar                 0.140753  1.000000  \n",
       "\n",
       "[35 rows x 35 columns]"
      ]
     },
     "execution_count": 20,
     "metadata": {},
     "output_type": "execute_result"
    }
   ],
   "source": [
    "tcdf.corr()"
   ]
  },
  {
   "cell_type": "code",
   "execution_count": 21,
   "id": "5024cf4d",
   "metadata": {},
   "outputs": [],
   "source": [
    "model = smf.ols('Price~Age_08_04+KM+HP+cc+Doors+Gears+Quarterly_Tax+Weight',data=tcdf).fit()"
   ]
  },
  {
   "cell_type": "code",
   "execution_count": 22,
   "id": "1fe04711",
   "metadata": {},
   "outputs": [
    {
     "data": {
      "text/plain": [
       "Intercept       -5573.106358\n",
       "Age_08_04        -121.658402\n",
       "KM                 -0.020817\n",
       "HP                 31.680906\n",
       "cc                 -0.121100\n",
       "Doors              -1.616641\n",
       "Gears             594.319936\n",
       "Quarterly_Tax       3.949081\n",
       "Weight             16.958632\n",
       "dtype: float64"
      ]
     },
     "execution_count": 22,
     "metadata": {},
     "output_type": "execute_result"
    }
   ],
   "source": [
    "model.params"
   ]
  },
  {
   "cell_type": "code",
   "execution_count": 23,
   "id": "c93f758d",
   "metadata": {},
   "outputs": [
    {
     "name": "stdout",
     "output_type": "stream",
     "text": [
      "Intercept        -3.948666\n",
      "Age_08_04       -46.511852\n",
      "KM              -16.621622\n",
      "HP               11.241018\n",
      "cc               -1.344222\n",
      "Doors            -0.040410\n",
      "Gears             3.016007\n",
      "Quarterly_Tax     3.014535\n",
      "Weight           15.879803\n",
      "dtype: float64 \n",
      " Intercept         8.241949e-05\n",
      "Age_08_04        3.354724e-288\n",
      "KM                7.538439e-57\n",
      "HP                3.757218e-28\n",
      "cc                1.790902e-01\n",
      "Doors             9.677716e-01\n",
      "Gears             2.606549e-03\n",
      "Quarterly_Tax     2.619148e-03\n",
      "Weight            2.048576e-52\n",
      "dtype: float64\n"
     ]
    }
   ],
   "source": [
    "print(model.tvalues, '\\n', model.pvalues)"
   ]
  },
  {
   "cell_type": "code",
   "execution_count": 24,
   "id": "ee3955bb",
   "metadata": {},
   "outputs": [
    {
     "data": {
      "text/plain": [
       "(0.8637627463428192, 0.8629989775766963)"
      ]
     },
     "execution_count": 24,
     "metadata": {},
     "output_type": "execute_result"
    }
   ],
   "source": [
    "(model.rsquared,model.rsquared_adj)"
   ]
  },
  {
   "cell_type": "code",
   "execution_count": 25,
   "id": "fd8b2064",
   "metadata": {},
   "outputs": [],
   "source": [
    "m2 = smf.ols('Price~Age_08_04+KM+HP+cc+Gears+Quarterly_Tax+Weight',data=tcdf).fit()"
   ]
  },
  {
   "cell_type": "code",
   "execution_count": 26,
   "id": "4ba509c5",
   "metadata": {},
   "outputs": [
    {
     "name": "stdout",
     "output_type": "stream",
     "text": [
      "Intercept         8.061841e-05\n",
      "Age_08_04        2.111306e-288\n",
      "KM                6.123589e-57\n",
      "HP                2.762121e-28\n",
      "cc                1.790917e-01\n",
      "Gears             2.103732e-03\n",
      "Quarterly_Tax     2.512611e-03\n",
      "Weight            1.612185e-55\n",
      "dtype: float64\n"
     ]
    }
   ],
   "source": [
    "print(m2.pvalues)"
   ]
  },
  {
   "cell_type": "code",
   "execution_count": 27,
   "id": "d42900cd",
   "metadata": {},
   "outputs": [
    {
     "data": {
      "text/plain": [
       "(0.8637625904386813, 0.8630947599996552)"
      ]
     },
     "execution_count": 27,
     "metadata": {},
     "output_type": "execute_result"
    }
   ],
   "source": [
    "(m2.rsquared,m2.rsquared_adj)"
   ]
  },
  {
   "cell_type": "code",
   "execution_count": 28,
   "id": "62333586",
   "metadata": {},
   "outputs": [],
   "source": [
    "m3 = smf.ols('Price~Age_08_04+KM+HP+Gears+Quarterly_Tax+Weight',data=tcdf).fit()"
   ]
  },
  {
   "cell_type": "code",
   "execution_count": 29,
   "id": "f86ea70b",
   "metadata": {},
   "outputs": [
    {
     "name": "stdout",
     "output_type": "stream",
     "text": [
      "Intercept         1.051026e-04\n",
      "Age_08_04        1.605662e-288\n",
      "KM                9.383988e-58\n",
      "HP                6.284770e-28\n",
      "Gears             1.997142e-03\n",
      "Quarterly_Tax     3.998997e-03\n",
      "Weight            1.789355e-55\n",
      "dtype: float64\n"
     ]
    }
   ],
   "source": [
    "print(m3.pvalues)"
   ]
  },
  {
   "cell_type": "code",
   "execution_count": 30,
   "id": "1f497d2e",
   "metadata": {},
   "outputs": [
    {
     "data": {
      "text/plain": [
       "(0.8635902024630112, 0.8630174531381534)"
      ]
     },
     "execution_count": 30,
     "metadata": {},
     "output_type": "execute_result"
    }
   ],
   "source": [
    "(m3.rsquared,m3.rsquared_adj)"
   ]
  },
  {
   "cell_type": "code",
   "execution_count": null,
   "id": "71363f0b",
   "metadata": {},
   "outputs": [],
   "source": [
    "# Lasso"
   ]
  },
  {
   "cell_type": "code",
   "execution_count": 31,
   "id": "5ba2bb7d",
   "metadata": {},
   "outputs": [],
   "source": [
    "from sklearn.linear_model import Lasso"
   ]
  },
  {
   "cell_type": "code",
   "execution_count": 32,
   "id": "27e277f3",
   "metadata": {},
   "outputs": [],
   "source": [
    "features = ['Age_08_04','KM','HP','cc','Doors','Gears','Quarterly_Tax','Weight']\n",
    "X = tcdf[features]\n",
    "y = tcdf['Price']"
   ]
  },
  {
   "cell_type": "code",
   "execution_count": 33,
   "id": "8f7add7c",
   "metadata": {},
   "outputs": [
    {
     "data": {
      "text/plain": [
       "Lasso()"
      ]
     },
     "execution_count": 33,
     "metadata": {},
     "output_type": "execute_result"
    }
   ],
   "source": [
    "lasso = Lasso()\n",
    "lasso.fit(X,y)"
   ]
  },
  {
   "cell_type": "code",
   "execution_count": 34,
   "id": "b34d0344",
   "metadata": {},
   "outputs": [
    {
     "data": {
      "text/plain": [
       "0.8637604933770529"
      ]
     },
     "execution_count": 34,
     "metadata": {},
     "output_type": "execute_result"
    }
   ],
   "source": [
    "lasso.score(X,y)"
   ]
  },
  {
   "cell_type": "code",
   "execution_count": 35,
   "id": "f9cc6633",
   "metadata": {},
   "outputs": [],
   "source": [
    "# Ridge"
   ]
  },
  {
   "cell_type": "code",
   "execution_count": 36,
   "id": "42b21d5f",
   "metadata": {},
   "outputs": [],
   "source": [
    "from sklearn.linear_model import Ridge"
   ]
  },
  {
   "cell_type": "code",
   "execution_count": 37,
   "id": "15bb0d18",
   "metadata": {},
   "outputs": [
    {
     "data": {
      "text/plain": [
       "Ridge()"
      ]
     },
     "execution_count": 37,
     "metadata": {},
     "output_type": "execute_result"
    }
   ],
   "source": [
    "ridge = Ridge()\n",
    "ridge.fit(X,y)"
   ]
  },
  {
   "cell_type": "code",
   "execution_count": 38,
   "id": "0dac0792",
   "metadata": {},
   "outputs": [
    {
     "data": {
      "text/plain": [
       "0.863762360301014"
      ]
     },
     "execution_count": 38,
     "metadata": {},
     "output_type": "execute_result"
    }
   ],
   "source": [
    "ridge.score(X,y)"
   ]
  },
  {
   "cell_type": "code",
   "execution_count": 39,
   "id": "83fbaf77",
   "metadata": {},
   "outputs": [],
   "source": [
    "# ElasticNet"
   ]
  },
  {
   "cell_type": "code",
   "execution_count": 40,
   "id": "476bbbaa",
   "metadata": {},
   "outputs": [],
   "source": [
    "from sklearn.linear_model import ElasticNet"
   ]
  },
  {
   "cell_type": "code",
   "execution_count": 41,
   "id": "f65b5aaa",
   "metadata": {},
   "outputs": [
    {
     "data": {
      "text/plain": [
       "ElasticNet()"
      ]
     },
     "execution_count": 41,
     "metadata": {},
     "output_type": "execute_result"
    }
   ],
   "source": [
    "elasticnet = ElasticNet()\n",
    "elasticnet.fit(X,y)"
   ]
  },
  {
   "cell_type": "code",
   "execution_count": 42,
   "id": "cdd7ec3c",
   "metadata": {},
   "outputs": [
    {
     "data": {
      "text/plain": [
       "0.8629889015918737"
      ]
     },
     "execution_count": 42,
     "metadata": {},
     "output_type": "execute_result"
    }
   ],
   "source": [
    "elasticnet.score(X,y)"
   ]
  },
  {
   "cell_type": "code",
   "execution_count": null,
   "id": "2d8543f2",
   "metadata": {},
   "outputs": [],
   "source": []
  }
 ],
 "metadata": {
  "kernelspec": {
   "display_name": "Python 3 (ipykernel)",
   "language": "python",
   "name": "python3"
  },
  "language_info": {
   "codemirror_mode": {
    "name": "ipython",
    "version": 3
   },
   "file_extension": ".py",
   "mimetype": "text/x-python",
   "name": "python",
   "nbconvert_exporter": "python",
   "pygments_lexer": "ipython3",
   "version": "3.9.12"
  }
 },
 "nbformat": 4,
 "nbformat_minor": 5
}
